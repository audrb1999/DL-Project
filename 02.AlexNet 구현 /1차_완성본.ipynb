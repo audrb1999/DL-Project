{
  "nbformat": 4,
  "nbformat_minor": 0,
  "metadata": {
    "colab": {
      "name": "1차_완성본.ipynb",
      "provenance": [],
      "collapsed_sections": [],
      "authorship_tag": "ABX9TyNTz2jtVC5hQxZRMFY4LHLl",
      "include_colab_link": true
    },
    "kernelspec": {
      "name": "python3",
      "display_name": "Python 3"
    },
    "language_info": {
      "name": "python"
    },
    "accelerator": "GPU",
    "widgets": {
      "application/vnd.jupyter.widget-state+json": {
        "645456598b304a40b8eaed1c0cdad9b9": {
          "model_module": "@jupyter-widgets/controls",
          "model_name": "HBoxModel",
          "state": {
            "_view_name": "HBoxView",
            "_dom_classes": [],
            "_model_name": "HBoxModel",
            "_view_module": "@jupyter-widgets/controls",
            "_model_module_version": "1.5.0",
            "_view_count": null,
            "_view_module_version": "1.5.0",
            "box_style": "",
            "layout": "IPY_MODEL_ea916b85503643d09779ca47717e432d",
            "_model_module": "@jupyter-widgets/controls",
            "children": [
              "IPY_MODEL_9cebc8aa888247b68479d26a2cffdc8a",
              "IPY_MODEL_fe6efd76ed84499d9bc33b68820654eb"
            ]
          }
        },
        "ea916b85503643d09779ca47717e432d": {
          "model_module": "@jupyter-widgets/base",
          "model_name": "LayoutModel",
          "state": {
            "_view_name": "LayoutView",
            "grid_template_rows": null,
            "right": null,
            "justify_content": null,
            "_view_module": "@jupyter-widgets/base",
            "overflow": null,
            "_model_module_version": "1.2.0",
            "_view_count": null,
            "flex_flow": null,
            "width": null,
            "min_width": null,
            "border": null,
            "align_items": null,
            "bottom": null,
            "_model_module": "@jupyter-widgets/base",
            "top": null,
            "grid_column": null,
            "overflow_y": null,
            "overflow_x": null,
            "grid_auto_flow": null,
            "grid_area": null,
            "grid_template_columns": null,
            "flex": null,
            "_model_name": "LayoutModel",
            "justify_items": null,
            "grid_row": null,
            "max_height": null,
            "align_content": null,
            "visibility": null,
            "align_self": null,
            "height": null,
            "min_height": null,
            "padding": null,
            "grid_auto_rows": null,
            "grid_gap": null,
            "max_width": null,
            "order": null,
            "_view_module_version": "1.2.0",
            "grid_template_areas": null,
            "object_position": null,
            "object_fit": null,
            "grid_auto_columns": null,
            "margin": null,
            "display": null,
            "left": null
          }
        },
        "9cebc8aa888247b68479d26a2cffdc8a": {
          "model_module": "@jupyter-widgets/controls",
          "model_name": "FloatProgressModel",
          "state": {
            "_view_name": "ProgressView",
            "style": "IPY_MODEL_c97f209cfab64358be3fa08bb7fd5d82",
            "_dom_classes": [],
            "description": "Dl Completed...: 100%",
            "_model_name": "FloatProgressModel",
            "bar_style": "success",
            "max": 1,
            "_view_module": "@jupyter-widgets/controls",
            "_model_module_version": "1.5.0",
            "value": 1,
            "_view_count": null,
            "_view_module_version": "1.5.0",
            "orientation": "horizontal",
            "min": 0,
            "description_tooltip": null,
            "_model_module": "@jupyter-widgets/controls",
            "layout": "IPY_MODEL_5229e560edc240f8bb4eefae142a498a"
          }
        },
        "fe6efd76ed84499d9bc33b68820654eb": {
          "model_module": "@jupyter-widgets/controls",
          "model_name": "HTMLModel",
          "state": {
            "_view_name": "HTMLView",
            "style": "IPY_MODEL_09ac70a75993402b84639a01741273db",
            "_dom_classes": [],
            "description": "",
            "_model_name": "HTMLModel",
            "placeholder": "​",
            "_view_module": "@jupyter-widgets/controls",
            "_model_module_version": "1.5.0",
            "value": " 4/4 [00:02&lt;00:00,  1.58 url/s]",
            "_view_count": null,
            "_view_module_version": "1.5.0",
            "description_tooltip": null,
            "_model_module": "@jupyter-widgets/controls",
            "layout": "IPY_MODEL_ed60cd821d114fc481bd590ac8ff4bff"
          }
        },
        "c97f209cfab64358be3fa08bb7fd5d82": {
          "model_module": "@jupyter-widgets/controls",
          "model_name": "ProgressStyleModel",
          "state": {
            "_view_name": "StyleView",
            "_model_name": "ProgressStyleModel",
            "description_width": "initial",
            "_view_module": "@jupyter-widgets/base",
            "_model_module_version": "1.5.0",
            "_view_count": null,
            "_view_module_version": "1.2.0",
            "bar_color": null,
            "_model_module": "@jupyter-widgets/controls"
          }
        },
        "5229e560edc240f8bb4eefae142a498a": {
          "model_module": "@jupyter-widgets/base",
          "model_name": "LayoutModel",
          "state": {
            "_view_name": "LayoutView",
            "grid_template_rows": null,
            "right": null,
            "justify_content": null,
            "_view_module": "@jupyter-widgets/base",
            "overflow": null,
            "_model_module_version": "1.2.0",
            "_view_count": null,
            "flex_flow": null,
            "width": null,
            "min_width": null,
            "border": null,
            "align_items": null,
            "bottom": null,
            "_model_module": "@jupyter-widgets/base",
            "top": null,
            "grid_column": null,
            "overflow_y": null,
            "overflow_x": null,
            "grid_auto_flow": null,
            "grid_area": null,
            "grid_template_columns": null,
            "flex": null,
            "_model_name": "LayoutModel",
            "justify_items": null,
            "grid_row": null,
            "max_height": null,
            "align_content": null,
            "visibility": null,
            "align_self": null,
            "height": null,
            "min_height": null,
            "padding": null,
            "grid_auto_rows": null,
            "grid_gap": null,
            "max_width": null,
            "order": null,
            "_view_module_version": "1.2.0",
            "grid_template_areas": null,
            "object_position": null,
            "object_fit": null,
            "grid_auto_columns": null,
            "margin": null,
            "display": null,
            "left": null
          }
        },
        "09ac70a75993402b84639a01741273db": {
          "model_module": "@jupyter-widgets/controls",
          "model_name": "DescriptionStyleModel",
          "state": {
            "_view_name": "StyleView",
            "_model_name": "DescriptionStyleModel",
            "description_width": "",
            "_view_module": "@jupyter-widgets/base",
            "_model_module_version": "1.5.0",
            "_view_count": null,
            "_view_module_version": "1.2.0",
            "_model_module": "@jupyter-widgets/controls"
          }
        },
        "ed60cd821d114fc481bd590ac8ff4bff": {
          "model_module": "@jupyter-widgets/base",
          "model_name": "LayoutModel",
          "state": {
            "_view_name": "LayoutView",
            "grid_template_rows": null,
            "right": null,
            "justify_content": null,
            "_view_module": "@jupyter-widgets/base",
            "overflow": null,
            "_model_module_version": "1.2.0",
            "_view_count": null,
            "flex_flow": null,
            "width": null,
            "min_width": null,
            "border": null,
            "align_items": null,
            "bottom": null,
            "_model_module": "@jupyter-widgets/base",
            "top": null,
            "grid_column": null,
            "overflow_y": null,
            "overflow_x": null,
            "grid_auto_flow": null,
            "grid_area": null,
            "grid_template_columns": null,
            "flex": null,
            "_model_name": "LayoutModel",
            "justify_items": null,
            "grid_row": null,
            "max_height": null,
            "align_content": null,
            "visibility": null,
            "align_self": null,
            "height": null,
            "min_height": null,
            "padding": null,
            "grid_auto_rows": null,
            "grid_gap": null,
            "max_width": null,
            "order": null,
            "_view_module_version": "1.2.0",
            "grid_template_areas": null,
            "object_position": null,
            "object_fit": null,
            "grid_auto_columns": null,
            "margin": null,
            "display": null,
            "left": null
          }
        },
        "f20b324418c447d6bd43e8523740fe6c": {
          "model_module": "@jupyter-widgets/controls",
          "model_name": "HBoxModel",
          "state": {
            "_view_name": "HBoxView",
            "_dom_classes": [],
            "_model_name": "HBoxModel",
            "_view_module": "@jupyter-widgets/controls",
            "_model_module_version": "1.5.0",
            "_view_count": null,
            "_view_module_version": "1.5.0",
            "box_style": "",
            "layout": "IPY_MODEL_f9ca16c2ffb64456acf878187f920d3c",
            "_model_module": "@jupyter-widgets/controls",
            "children": [
              "IPY_MODEL_058684a96aea473ab4ce7f021e94ec41",
              "IPY_MODEL_f8a5635108c04b1f942548849d08c1b7"
            ]
          }
        },
        "f9ca16c2ffb64456acf878187f920d3c": {
          "model_module": "@jupyter-widgets/base",
          "model_name": "LayoutModel",
          "state": {
            "_view_name": "LayoutView",
            "grid_template_rows": null,
            "right": null,
            "justify_content": null,
            "_view_module": "@jupyter-widgets/base",
            "overflow": null,
            "_model_module_version": "1.2.0",
            "_view_count": null,
            "flex_flow": null,
            "width": null,
            "min_width": null,
            "border": null,
            "align_items": null,
            "bottom": null,
            "_model_module": "@jupyter-widgets/base",
            "top": null,
            "grid_column": null,
            "overflow_y": null,
            "overflow_x": null,
            "grid_auto_flow": null,
            "grid_area": null,
            "grid_template_columns": null,
            "flex": null,
            "_model_name": "LayoutModel",
            "justify_items": null,
            "grid_row": null,
            "max_height": null,
            "align_content": null,
            "visibility": null,
            "align_self": null,
            "height": null,
            "min_height": null,
            "padding": null,
            "grid_auto_rows": null,
            "grid_gap": null,
            "max_width": null,
            "order": null,
            "_view_module_version": "1.2.0",
            "grid_template_areas": null,
            "object_position": null,
            "object_fit": null,
            "grid_auto_columns": null,
            "margin": null,
            "display": null,
            "left": null
          }
        },
        "058684a96aea473ab4ce7f021e94ec41": {
          "model_module": "@jupyter-widgets/controls",
          "model_name": "FloatProgressModel",
          "state": {
            "_view_name": "ProgressView",
            "style": "IPY_MODEL_bede50c9fe944d7982b599179d9bd322",
            "_dom_classes": [],
            "description": "Dl Size...: 100%",
            "_model_name": "FloatProgressModel",
            "bar_style": "success",
            "max": 1,
            "_view_module": "@jupyter-widgets/controls",
            "_model_module_version": "1.5.0",
            "value": 1,
            "_view_count": null,
            "_view_module_version": "1.5.0",
            "orientation": "horizontal",
            "min": 0,
            "description_tooltip": null,
            "_model_module": "@jupyter-widgets/controls",
            "layout": "IPY_MODEL_b011f0d5a262478087f41e5a256fa479"
          }
        },
        "f8a5635108c04b1f942548849d08c1b7": {
          "model_module": "@jupyter-widgets/controls",
          "model_name": "HTMLModel",
          "state": {
            "_view_name": "HTMLView",
            "style": "IPY_MODEL_e2de8cb7dbcf477d91cb9278a45532c2",
            "_dom_classes": [],
            "description": "",
            "_model_name": "HTMLModel",
            "placeholder": "​",
            "_view_module": "@jupyter-widgets/controls",
            "_model_module_version": "1.5.0",
            "value": " 29/29 [00:02&lt;00:00, 11.63 MiB/s]",
            "_view_count": null,
            "_view_module_version": "1.5.0",
            "description_tooltip": null,
            "_model_module": "@jupyter-widgets/controls",
            "layout": "IPY_MODEL_7da55cc16d1c48ac9536161e1003d6e6"
          }
        },
        "bede50c9fe944d7982b599179d9bd322": {
          "model_module": "@jupyter-widgets/controls",
          "model_name": "ProgressStyleModel",
          "state": {
            "_view_name": "StyleView",
            "_model_name": "ProgressStyleModel",
            "description_width": "initial",
            "_view_module": "@jupyter-widgets/base",
            "_model_module_version": "1.5.0",
            "_view_count": null,
            "_view_module_version": "1.2.0",
            "bar_color": null,
            "_model_module": "@jupyter-widgets/controls"
          }
        },
        "b011f0d5a262478087f41e5a256fa479": {
          "model_module": "@jupyter-widgets/base",
          "model_name": "LayoutModel",
          "state": {
            "_view_name": "LayoutView",
            "grid_template_rows": null,
            "right": null,
            "justify_content": null,
            "_view_module": "@jupyter-widgets/base",
            "overflow": null,
            "_model_module_version": "1.2.0",
            "_view_count": null,
            "flex_flow": null,
            "width": null,
            "min_width": null,
            "border": null,
            "align_items": null,
            "bottom": null,
            "_model_module": "@jupyter-widgets/base",
            "top": null,
            "grid_column": null,
            "overflow_y": null,
            "overflow_x": null,
            "grid_auto_flow": null,
            "grid_area": null,
            "grid_template_columns": null,
            "flex": null,
            "_model_name": "LayoutModel",
            "justify_items": null,
            "grid_row": null,
            "max_height": null,
            "align_content": null,
            "visibility": null,
            "align_self": null,
            "height": null,
            "min_height": null,
            "padding": null,
            "grid_auto_rows": null,
            "grid_gap": null,
            "max_width": null,
            "order": null,
            "_view_module_version": "1.2.0",
            "grid_template_areas": null,
            "object_position": null,
            "object_fit": null,
            "grid_auto_columns": null,
            "margin": null,
            "display": null,
            "left": null
          }
        },
        "e2de8cb7dbcf477d91cb9278a45532c2": {
          "model_module": "@jupyter-widgets/controls",
          "model_name": "DescriptionStyleModel",
          "state": {
            "_view_name": "StyleView",
            "_model_name": "DescriptionStyleModel",
            "description_width": "",
            "_view_module": "@jupyter-widgets/base",
            "_model_module_version": "1.5.0",
            "_view_count": null,
            "_view_module_version": "1.2.0",
            "_model_module": "@jupyter-widgets/controls"
          }
        },
        "7da55cc16d1c48ac9536161e1003d6e6": {
          "model_module": "@jupyter-widgets/base",
          "model_name": "LayoutModel",
          "state": {
            "_view_name": "LayoutView",
            "grid_template_rows": null,
            "right": null,
            "justify_content": null,
            "_view_module": "@jupyter-widgets/base",
            "overflow": null,
            "_model_module_version": "1.2.0",
            "_view_count": null,
            "flex_flow": null,
            "width": null,
            "min_width": null,
            "border": null,
            "align_items": null,
            "bottom": null,
            "_model_module": "@jupyter-widgets/base",
            "top": null,
            "grid_column": null,
            "overflow_y": null,
            "overflow_x": null,
            "grid_auto_flow": null,
            "grid_area": null,
            "grid_template_columns": null,
            "flex": null,
            "_model_name": "LayoutModel",
            "justify_items": null,
            "grid_row": null,
            "max_height": null,
            "align_content": null,
            "visibility": null,
            "align_self": null,
            "height": null,
            "min_height": null,
            "padding": null,
            "grid_auto_rows": null,
            "grid_gap": null,
            "max_width": null,
            "order": null,
            "_view_module_version": "1.2.0",
            "grid_template_areas": null,
            "object_position": null,
            "object_fit": null,
            "grid_auto_columns": null,
            "margin": null,
            "display": null,
            "left": null
          }
        },
        "33333d5901ac4cca965a9be47f23c874": {
          "model_module": "@jupyter-widgets/controls",
          "model_name": "HBoxModel",
          "state": {
            "_view_name": "HBoxView",
            "_dom_classes": [],
            "_model_name": "HBoxModel",
            "_view_module": "@jupyter-widgets/controls",
            "_model_module_version": "1.5.0",
            "_view_count": null,
            "_view_module_version": "1.5.0",
            "box_style": "",
            "layout": "IPY_MODEL_8b11c9a95ab4486898e2c7226cde2dba",
            "_model_module": "@jupyter-widgets/controls",
            "children": [
              "IPY_MODEL_10fd8404042548129ca5ea83ccaa7946",
              "IPY_MODEL_afa2b069f56446f687a45cf120606b9f"
            ]
          }
        },
        "8b11c9a95ab4486898e2c7226cde2dba": {
          "model_module": "@jupyter-widgets/base",
          "model_name": "LayoutModel",
          "state": {
            "_view_name": "LayoutView",
            "grid_template_rows": null,
            "right": null,
            "justify_content": null,
            "_view_module": "@jupyter-widgets/base",
            "overflow": null,
            "_model_module_version": "1.2.0",
            "_view_count": null,
            "flex_flow": null,
            "width": null,
            "min_width": null,
            "border": null,
            "align_items": null,
            "bottom": null,
            "_model_module": "@jupyter-widgets/base",
            "top": null,
            "grid_column": null,
            "overflow_y": null,
            "overflow_x": null,
            "grid_auto_flow": null,
            "grid_area": null,
            "grid_template_columns": null,
            "flex": null,
            "_model_name": "LayoutModel",
            "justify_items": null,
            "grid_row": null,
            "max_height": null,
            "align_content": null,
            "visibility": null,
            "align_self": null,
            "height": null,
            "min_height": null,
            "padding": null,
            "grid_auto_rows": null,
            "grid_gap": null,
            "max_width": null,
            "order": null,
            "_view_module_version": "1.2.0",
            "grid_template_areas": null,
            "object_position": null,
            "object_fit": null,
            "grid_auto_columns": null,
            "margin": null,
            "display": null,
            "left": null
          }
        },
        "10fd8404042548129ca5ea83ccaa7946": {
          "model_module": "@jupyter-widgets/controls",
          "model_name": "FloatProgressModel",
          "state": {
            "_view_name": "ProgressView",
            "style": "IPY_MODEL_7b9f0d5868474e63b5cd3f81050f452b",
            "_dom_classes": [],
            "description": "Extraction completed...: 100%",
            "_model_name": "FloatProgressModel",
            "bar_style": "success",
            "max": 1,
            "_view_module": "@jupyter-widgets/controls",
            "_model_module_version": "1.5.0",
            "value": 1,
            "_view_count": null,
            "_view_module_version": "1.5.0",
            "orientation": "horizontal",
            "min": 0,
            "description_tooltip": null,
            "_model_module": "@jupyter-widgets/controls",
            "layout": "IPY_MODEL_2bf814d714d9415e88abe9eba683add4"
          }
        },
        "afa2b069f56446f687a45cf120606b9f": {
          "model_module": "@jupyter-widgets/controls",
          "model_name": "HTMLModel",
          "state": {
            "_view_name": "HTMLView",
            "style": "IPY_MODEL_e36aefb6ef924be19c3f5aff233a6b62",
            "_dom_classes": [],
            "description": "",
            "_model_name": "HTMLModel",
            "placeholder": "​",
            "_view_module": "@jupyter-widgets/controls",
            "_model_module_version": "1.5.0",
            "value": " 4/4 [00:02&lt;00:00,  1.63 file/s]",
            "_view_count": null,
            "_view_module_version": "1.5.0",
            "description_tooltip": null,
            "_model_module": "@jupyter-widgets/controls",
            "layout": "IPY_MODEL_6a1c7b6ee7bb4df1b8403eb1d893191b"
          }
        },
        "7b9f0d5868474e63b5cd3f81050f452b": {
          "model_module": "@jupyter-widgets/controls",
          "model_name": "ProgressStyleModel",
          "state": {
            "_view_name": "StyleView",
            "_model_name": "ProgressStyleModel",
            "description_width": "initial",
            "_view_module": "@jupyter-widgets/base",
            "_model_module_version": "1.5.0",
            "_view_count": null,
            "_view_module_version": "1.2.0",
            "bar_color": null,
            "_model_module": "@jupyter-widgets/controls"
          }
        },
        "2bf814d714d9415e88abe9eba683add4": {
          "model_module": "@jupyter-widgets/base",
          "model_name": "LayoutModel",
          "state": {
            "_view_name": "LayoutView",
            "grid_template_rows": null,
            "right": null,
            "justify_content": null,
            "_view_module": "@jupyter-widgets/base",
            "overflow": null,
            "_model_module_version": "1.2.0",
            "_view_count": null,
            "flex_flow": null,
            "width": null,
            "min_width": null,
            "border": null,
            "align_items": null,
            "bottom": null,
            "_model_module": "@jupyter-widgets/base",
            "top": null,
            "grid_column": null,
            "overflow_y": null,
            "overflow_x": null,
            "grid_auto_flow": null,
            "grid_area": null,
            "grid_template_columns": null,
            "flex": null,
            "_model_name": "LayoutModel",
            "justify_items": null,
            "grid_row": null,
            "max_height": null,
            "align_content": null,
            "visibility": null,
            "align_self": null,
            "height": null,
            "min_height": null,
            "padding": null,
            "grid_auto_rows": null,
            "grid_gap": null,
            "max_width": null,
            "order": null,
            "_view_module_version": "1.2.0",
            "grid_template_areas": null,
            "object_position": null,
            "object_fit": null,
            "grid_auto_columns": null,
            "margin": null,
            "display": null,
            "left": null
          }
        },
        "e36aefb6ef924be19c3f5aff233a6b62": {
          "model_module": "@jupyter-widgets/controls",
          "model_name": "DescriptionStyleModel",
          "state": {
            "_view_name": "StyleView",
            "_model_name": "DescriptionStyleModel",
            "description_width": "",
            "_view_module": "@jupyter-widgets/base",
            "_model_module_version": "1.5.0",
            "_view_count": null,
            "_view_module_version": "1.2.0",
            "_model_module": "@jupyter-widgets/controls"
          }
        },
        "6a1c7b6ee7bb4df1b8403eb1d893191b": {
          "model_module": "@jupyter-widgets/base",
          "model_name": "LayoutModel",
          "state": {
            "_view_name": "LayoutView",
            "grid_template_rows": null,
            "right": null,
            "justify_content": null,
            "_view_module": "@jupyter-widgets/base",
            "overflow": null,
            "_model_module_version": "1.2.0",
            "_view_count": null,
            "flex_flow": null,
            "width": null,
            "min_width": null,
            "border": null,
            "align_items": null,
            "bottom": null,
            "_model_module": "@jupyter-widgets/base",
            "top": null,
            "grid_column": null,
            "overflow_y": null,
            "overflow_x": null,
            "grid_auto_flow": null,
            "grid_area": null,
            "grid_template_columns": null,
            "flex": null,
            "_model_name": "LayoutModel",
            "justify_items": null,
            "grid_row": null,
            "max_height": null,
            "align_content": null,
            "visibility": null,
            "align_self": null,
            "height": null,
            "min_height": null,
            "padding": null,
            "grid_auto_rows": null,
            "grid_gap": null,
            "max_width": null,
            "order": null,
            "_view_module_version": "1.2.0",
            "grid_template_areas": null,
            "object_position": null,
            "object_fit": null,
            "grid_auto_columns": null,
            "margin": null,
            "display": null,
            "left": null
          }
        },
        "f8367564886c4d3495a49c98a7a06b23": {
          "model_module": "@jupyter-widgets/controls",
          "model_name": "HBoxModel",
          "state": {
            "_view_name": "HBoxView",
            "_dom_classes": [],
            "_model_name": "HBoxModel",
            "_view_module": "@jupyter-widgets/controls",
            "_model_module_version": "1.5.0",
            "_view_count": null,
            "_view_module_version": "1.5.0",
            "box_style": "",
            "layout": "IPY_MODEL_dc52556f432d4c12b8919170a830c739",
            "_model_module": "@jupyter-widgets/controls",
            "children": [
              "IPY_MODEL_38bdcfb0a28f4c9b820c00c6d652f6f6",
              "IPY_MODEL_637bbce175ff4daa813e686775b295d9"
            ]
          }
        },
        "dc52556f432d4c12b8919170a830c739": {
          "model_module": "@jupyter-widgets/base",
          "model_name": "LayoutModel",
          "state": {
            "_view_name": "LayoutView",
            "grid_template_rows": null,
            "right": null,
            "justify_content": null,
            "_view_module": "@jupyter-widgets/base",
            "overflow": null,
            "_model_module_version": "1.2.0",
            "_view_count": null,
            "flex_flow": null,
            "width": null,
            "min_width": null,
            "border": null,
            "align_items": null,
            "bottom": null,
            "_model_module": "@jupyter-widgets/base",
            "top": null,
            "grid_column": null,
            "overflow_y": null,
            "overflow_x": null,
            "grid_auto_flow": null,
            "grid_area": null,
            "grid_template_columns": null,
            "flex": null,
            "_model_name": "LayoutModel",
            "justify_items": null,
            "grid_row": null,
            "max_height": null,
            "align_content": null,
            "visibility": null,
            "align_self": null,
            "height": null,
            "min_height": null,
            "padding": null,
            "grid_auto_rows": null,
            "grid_gap": null,
            "max_width": null,
            "order": null,
            "_view_module_version": "1.2.0",
            "grid_template_areas": null,
            "object_position": null,
            "object_fit": null,
            "grid_auto_columns": null,
            "margin": null,
            "display": null,
            "left": null
          }
        },
        "38bdcfb0a28f4c9b820c00c6d652f6f6": {
          "model_module": "@jupyter-widgets/controls",
          "model_name": "FloatProgressModel",
          "state": {
            "_view_name": "ProgressView",
            "style": "IPY_MODEL_1782d3a38e5a412f8fd5cf242db3c769",
            "_dom_classes": [],
            "description": "",
            "_model_name": "FloatProgressModel",
            "bar_style": "info",
            "max": 1,
            "_view_module": "@jupyter-widgets/controls",
            "_model_module_version": "1.5.0",
            "value": 1,
            "_view_count": null,
            "_view_module_version": "1.5.0",
            "orientation": "horizontal",
            "min": 0,
            "description_tooltip": null,
            "_model_module": "@jupyter-widgets/controls",
            "layout": "IPY_MODEL_954fa98c6dcb435f83d4cba37f0cf025"
          }
        },
        "637bbce175ff4daa813e686775b295d9": {
          "model_module": "@jupyter-widgets/controls",
          "model_name": "HTMLModel",
          "state": {
            "_view_name": "HTMLView",
            "style": "IPY_MODEL_e5a84bd4e28f49b4b3dfbf39dfb12cae",
            "_dom_classes": [],
            "description": "",
            "_model_name": "HTMLModel",
            "placeholder": "​",
            "_view_module": "@jupyter-widgets/controls",
            "_model_module_version": "1.5.0",
            "value": " 60000/0 [00:24&lt;00:00, 3097.43 examples/s]",
            "_view_count": null,
            "_view_module_version": "1.5.0",
            "description_tooltip": null,
            "_model_module": "@jupyter-widgets/controls",
            "layout": "IPY_MODEL_2868ceadfd014e0b8e48788305859700"
          }
        },
        "1782d3a38e5a412f8fd5cf242db3c769": {
          "model_module": "@jupyter-widgets/controls",
          "model_name": "ProgressStyleModel",
          "state": {
            "_view_name": "StyleView",
            "_model_name": "ProgressStyleModel",
            "description_width": "initial",
            "_view_module": "@jupyter-widgets/base",
            "_model_module_version": "1.5.0",
            "_view_count": null,
            "_view_module_version": "1.2.0",
            "bar_color": null,
            "_model_module": "@jupyter-widgets/controls"
          }
        },
        "954fa98c6dcb435f83d4cba37f0cf025": {
          "model_module": "@jupyter-widgets/base",
          "model_name": "LayoutModel",
          "state": {
            "_view_name": "LayoutView",
            "grid_template_rows": null,
            "right": null,
            "justify_content": null,
            "_view_module": "@jupyter-widgets/base",
            "overflow": null,
            "_model_module_version": "1.2.0",
            "_view_count": null,
            "flex_flow": null,
            "width": null,
            "min_width": null,
            "border": null,
            "align_items": null,
            "bottom": null,
            "_model_module": "@jupyter-widgets/base",
            "top": null,
            "grid_column": null,
            "overflow_y": null,
            "overflow_x": null,
            "grid_auto_flow": null,
            "grid_area": null,
            "grid_template_columns": null,
            "flex": null,
            "_model_name": "LayoutModel",
            "justify_items": null,
            "grid_row": null,
            "max_height": null,
            "align_content": null,
            "visibility": null,
            "align_self": null,
            "height": null,
            "min_height": null,
            "padding": null,
            "grid_auto_rows": null,
            "grid_gap": null,
            "max_width": null,
            "order": null,
            "_view_module_version": "1.2.0",
            "grid_template_areas": null,
            "object_position": null,
            "object_fit": null,
            "grid_auto_columns": null,
            "margin": null,
            "display": null,
            "left": null
          }
        },
        "e5a84bd4e28f49b4b3dfbf39dfb12cae": {
          "model_module": "@jupyter-widgets/controls",
          "model_name": "DescriptionStyleModel",
          "state": {
            "_view_name": "StyleView",
            "_model_name": "DescriptionStyleModel",
            "description_width": "",
            "_view_module": "@jupyter-widgets/base",
            "_model_module_version": "1.5.0",
            "_view_count": null,
            "_view_module_version": "1.2.0",
            "_model_module": "@jupyter-widgets/controls"
          }
        },
        "2868ceadfd014e0b8e48788305859700": {
          "model_module": "@jupyter-widgets/base",
          "model_name": "LayoutModel",
          "state": {
            "_view_name": "LayoutView",
            "grid_template_rows": null,
            "right": null,
            "justify_content": null,
            "_view_module": "@jupyter-widgets/base",
            "overflow": null,
            "_model_module_version": "1.2.0",
            "_view_count": null,
            "flex_flow": null,
            "width": null,
            "min_width": null,
            "border": null,
            "align_items": null,
            "bottom": null,
            "_model_module": "@jupyter-widgets/base",
            "top": null,
            "grid_column": null,
            "overflow_y": null,
            "overflow_x": null,
            "grid_auto_flow": null,
            "grid_area": null,
            "grid_template_columns": null,
            "flex": null,
            "_model_name": "LayoutModel",
            "justify_items": null,
            "grid_row": null,
            "max_height": null,
            "align_content": null,
            "visibility": null,
            "align_self": null,
            "height": null,
            "min_height": null,
            "padding": null,
            "grid_auto_rows": null,
            "grid_gap": null,
            "max_width": null,
            "order": null,
            "_view_module_version": "1.2.0",
            "grid_template_areas": null,
            "object_position": null,
            "object_fit": null,
            "grid_auto_columns": null,
            "margin": null,
            "display": null,
            "left": null
          }
        },
        "4c5edf9a30204427b4678b101e5d94d5": {
          "model_module": "@jupyter-widgets/controls",
          "model_name": "HBoxModel",
          "state": {
            "_view_name": "HBoxView",
            "_dom_classes": [],
            "_model_name": "HBoxModel",
            "_view_module": "@jupyter-widgets/controls",
            "_model_module_version": "1.5.0",
            "_view_count": null,
            "_view_module_version": "1.5.0",
            "box_style": "",
            "layout": "IPY_MODEL_497e2b5a87a24f54b288c583cfdbff1b",
            "_model_module": "@jupyter-widgets/controls",
            "children": [
              "IPY_MODEL_331ef3c9133b449da2ed6e335c33b623",
              "IPY_MODEL_9332c7c3e3be42c59a456b299a123863"
            ]
          }
        },
        "497e2b5a87a24f54b288c583cfdbff1b": {
          "model_module": "@jupyter-widgets/base",
          "model_name": "LayoutModel",
          "state": {
            "_view_name": "LayoutView",
            "grid_template_rows": null,
            "right": null,
            "justify_content": null,
            "_view_module": "@jupyter-widgets/base",
            "overflow": null,
            "_model_module_version": "1.2.0",
            "_view_count": null,
            "flex_flow": null,
            "width": null,
            "min_width": null,
            "border": null,
            "align_items": null,
            "bottom": null,
            "_model_module": "@jupyter-widgets/base",
            "top": null,
            "grid_column": null,
            "overflow_y": null,
            "overflow_x": null,
            "grid_auto_flow": null,
            "grid_area": null,
            "grid_template_columns": null,
            "flex": null,
            "_model_name": "LayoutModel",
            "justify_items": null,
            "grid_row": null,
            "max_height": null,
            "align_content": null,
            "visibility": null,
            "align_self": null,
            "height": null,
            "min_height": null,
            "padding": null,
            "grid_auto_rows": null,
            "grid_gap": null,
            "max_width": null,
            "order": null,
            "_view_module_version": "1.2.0",
            "grid_template_areas": null,
            "object_position": null,
            "object_fit": null,
            "grid_auto_columns": null,
            "margin": null,
            "display": null,
            "left": null
          }
        },
        "331ef3c9133b449da2ed6e335c33b623": {
          "model_module": "@jupyter-widgets/controls",
          "model_name": "FloatProgressModel",
          "state": {
            "_view_name": "ProgressView",
            "style": "IPY_MODEL_d68b7ee34fad404e8224318a44b96f5c",
            "_dom_classes": [],
            "description": " 75%",
            "_model_name": "FloatProgressModel",
            "bar_style": "danger",
            "max": 60000,
            "_view_module": "@jupyter-widgets/controls",
            "_model_module_version": "1.5.0",
            "value": 44970,
            "_view_count": null,
            "_view_module_version": "1.5.0",
            "orientation": "horizontal",
            "min": 0,
            "description_tooltip": null,
            "_model_module": "@jupyter-widgets/controls",
            "layout": "IPY_MODEL_ddeb5c93659e40d0ad6631103626c57a"
          }
        },
        "9332c7c3e3be42c59a456b299a123863": {
          "model_module": "@jupyter-widgets/controls",
          "model_name": "HTMLModel",
          "state": {
            "_view_name": "HTMLView",
            "style": "IPY_MODEL_e9348769c70240ceb4dd4975725168b6",
            "_dom_classes": [],
            "description": "",
            "_model_name": "HTMLModel",
            "placeholder": "​",
            "_view_module": "@jupyter-widgets/controls",
            "_model_module_version": "1.5.0",
            "value": " 44970/60000 [00:00&lt;00:00, 102820.72 examples/s]",
            "_view_count": null,
            "_view_module_version": "1.5.0",
            "description_tooltip": null,
            "_model_module": "@jupyter-widgets/controls",
            "layout": "IPY_MODEL_f8ac973dbb654d3eb49555412acc4471"
          }
        },
        "d68b7ee34fad404e8224318a44b96f5c": {
          "model_module": "@jupyter-widgets/controls",
          "model_name": "ProgressStyleModel",
          "state": {
            "_view_name": "StyleView",
            "_model_name": "ProgressStyleModel",
            "description_width": "initial",
            "_view_module": "@jupyter-widgets/base",
            "_model_module_version": "1.5.0",
            "_view_count": null,
            "_view_module_version": "1.2.0",
            "bar_color": null,
            "_model_module": "@jupyter-widgets/controls"
          }
        },
        "ddeb5c93659e40d0ad6631103626c57a": {
          "model_module": "@jupyter-widgets/base",
          "model_name": "LayoutModel",
          "state": {
            "_view_name": "LayoutView",
            "grid_template_rows": null,
            "right": null,
            "justify_content": null,
            "_view_module": "@jupyter-widgets/base",
            "overflow": null,
            "_model_module_version": "1.2.0",
            "_view_count": null,
            "flex_flow": null,
            "width": null,
            "min_width": null,
            "border": null,
            "align_items": null,
            "bottom": null,
            "_model_module": "@jupyter-widgets/base",
            "top": null,
            "grid_column": null,
            "overflow_y": null,
            "overflow_x": null,
            "grid_auto_flow": null,
            "grid_area": null,
            "grid_template_columns": null,
            "flex": null,
            "_model_name": "LayoutModel",
            "justify_items": null,
            "grid_row": null,
            "max_height": null,
            "align_content": null,
            "visibility": null,
            "align_self": null,
            "height": null,
            "min_height": null,
            "padding": null,
            "grid_auto_rows": null,
            "grid_gap": null,
            "max_width": null,
            "order": null,
            "_view_module_version": "1.2.0",
            "grid_template_areas": null,
            "object_position": null,
            "object_fit": null,
            "grid_auto_columns": null,
            "margin": null,
            "display": null,
            "left": null
          }
        },
        "e9348769c70240ceb4dd4975725168b6": {
          "model_module": "@jupyter-widgets/controls",
          "model_name": "DescriptionStyleModel",
          "state": {
            "_view_name": "StyleView",
            "_model_name": "DescriptionStyleModel",
            "description_width": "",
            "_view_module": "@jupyter-widgets/base",
            "_model_module_version": "1.5.0",
            "_view_count": null,
            "_view_module_version": "1.2.0",
            "_model_module": "@jupyter-widgets/controls"
          }
        },
        "f8ac973dbb654d3eb49555412acc4471": {
          "model_module": "@jupyter-widgets/base",
          "model_name": "LayoutModel",
          "state": {
            "_view_name": "LayoutView",
            "grid_template_rows": null,
            "right": null,
            "justify_content": null,
            "_view_module": "@jupyter-widgets/base",
            "overflow": null,
            "_model_module_version": "1.2.0",
            "_view_count": null,
            "flex_flow": null,
            "width": null,
            "min_width": null,
            "border": null,
            "align_items": null,
            "bottom": null,
            "_model_module": "@jupyter-widgets/base",
            "top": null,
            "grid_column": null,
            "overflow_y": null,
            "overflow_x": null,
            "grid_auto_flow": null,
            "grid_area": null,
            "grid_template_columns": null,
            "flex": null,
            "_model_name": "LayoutModel",
            "justify_items": null,
            "grid_row": null,
            "max_height": null,
            "align_content": null,
            "visibility": null,
            "align_self": null,
            "height": null,
            "min_height": null,
            "padding": null,
            "grid_auto_rows": null,
            "grid_gap": null,
            "max_width": null,
            "order": null,
            "_view_module_version": "1.2.0",
            "grid_template_areas": null,
            "object_position": null,
            "object_fit": null,
            "grid_auto_columns": null,
            "margin": null,
            "display": null,
            "left": null
          }
        },
        "bafeb2de698342148722d95fa60ed961": {
          "model_module": "@jupyter-widgets/controls",
          "model_name": "HBoxModel",
          "state": {
            "_view_name": "HBoxView",
            "_dom_classes": [],
            "_model_name": "HBoxModel",
            "_view_module": "@jupyter-widgets/controls",
            "_model_module_version": "1.5.0",
            "_view_count": null,
            "_view_module_version": "1.5.0",
            "box_style": "",
            "layout": "IPY_MODEL_c33c15a946514d45954642d51584b30a",
            "_model_module": "@jupyter-widgets/controls",
            "children": [
              "IPY_MODEL_8fadb5ec27784f66b6b2adb02508b5a8",
              "IPY_MODEL_5c1243743561442b9040d26daae6f813"
            ]
          }
        },
        "c33c15a946514d45954642d51584b30a": {
          "model_module": "@jupyter-widgets/base",
          "model_name": "LayoutModel",
          "state": {
            "_view_name": "LayoutView",
            "grid_template_rows": null,
            "right": null,
            "justify_content": null,
            "_view_module": "@jupyter-widgets/base",
            "overflow": null,
            "_model_module_version": "1.2.0",
            "_view_count": null,
            "flex_flow": null,
            "width": null,
            "min_width": null,
            "border": null,
            "align_items": null,
            "bottom": null,
            "_model_module": "@jupyter-widgets/base",
            "top": null,
            "grid_column": null,
            "overflow_y": null,
            "overflow_x": null,
            "grid_auto_flow": null,
            "grid_area": null,
            "grid_template_columns": null,
            "flex": null,
            "_model_name": "LayoutModel",
            "justify_items": null,
            "grid_row": null,
            "max_height": null,
            "align_content": null,
            "visibility": null,
            "align_self": null,
            "height": null,
            "min_height": null,
            "padding": null,
            "grid_auto_rows": null,
            "grid_gap": null,
            "max_width": null,
            "order": null,
            "_view_module_version": "1.2.0",
            "grid_template_areas": null,
            "object_position": null,
            "object_fit": null,
            "grid_auto_columns": null,
            "margin": null,
            "display": null,
            "left": null
          }
        },
        "8fadb5ec27784f66b6b2adb02508b5a8": {
          "model_module": "@jupyter-widgets/controls",
          "model_name": "FloatProgressModel",
          "state": {
            "_view_name": "ProgressView",
            "style": "IPY_MODEL_ba9b81175dfd4fddbfd6a258ed4ac328",
            "_dom_classes": [],
            "description": "",
            "_model_name": "FloatProgressModel",
            "bar_style": "info",
            "max": 1,
            "_view_module": "@jupyter-widgets/controls",
            "_model_module_version": "1.5.0",
            "value": 1,
            "_view_count": null,
            "_view_module_version": "1.5.0",
            "orientation": "horizontal",
            "min": 0,
            "description_tooltip": null,
            "_model_module": "@jupyter-widgets/controls",
            "layout": "IPY_MODEL_d68b83d162054303ad9745dfd48f3b6c"
          }
        },
        "5c1243743561442b9040d26daae6f813": {
          "model_module": "@jupyter-widgets/controls",
          "model_name": "HTMLModel",
          "state": {
            "_view_name": "HTMLView",
            "style": "IPY_MODEL_02ea1401d68d4f3280248bad67d45c78",
            "_dom_classes": [],
            "description": "",
            "_model_name": "HTMLModel",
            "placeholder": "​",
            "_view_module": "@jupyter-widgets/controls",
            "_model_module_version": "1.5.0",
            "value": " 10000/0 [00:03&lt;00:00, 3215.51 examples/s]",
            "_view_count": null,
            "_view_module_version": "1.5.0",
            "description_tooltip": null,
            "_model_module": "@jupyter-widgets/controls",
            "layout": "IPY_MODEL_b13e895801544c35a6d55e6dba78a427"
          }
        },
        "ba9b81175dfd4fddbfd6a258ed4ac328": {
          "model_module": "@jupyter-widgets/controls",
          "model_name": "ProgressStyleModel",
          "state": {
            "_view_name": "StyleView",
            "_model_name": "ProgressStyleModel",
            "description_width": "initial",
            "_view_module": "@jupyter-widgets/base",
            "_model_module_version": "1.5.0",
            "_view_count": null,
            "_view_module_version": "1.2.0",
            "bar_color": null,
            "_model_module": "@jupyter-widgets/controls"
          }
        },
        "d68b83d162054303ad9745dfd48f3b6c": {
          "model_module": "@jupyter-widgets/base",
          "model_name": "LayoutModel",
          "state": {
            "_view_name": "LayoutView",
            "grid_template_rows": null,
            "right": null,
            "justify_content": null,
            "_view_module": "@jupyter-widgets/base",
            "overflow": null,
            "_model_module_version": "1.2.0",
            "_view_count": null,
            "flex_flow": null,
            "width": null,
            "min_width": null,
            "border": null,
            "align_items": null,
            "bottom": null,
            "_model_module": "@jupyter-widgets/base",
            "top": null,
            "grid_column": null,
            "overflow_y": null,
            "overflow_x": null,
            "grid_auto_flow": null,
            "grid_area": null,
            "grid_template_columns": null,
            "flex": null,
            "_model_name": "LayoutModel",
            "justify_items": null,
            "grid_row": null,
            "max_height": null,
            "align_content": null,
            "visibility": null,
            "align_self": null,
            "height": null,
            "min_height": null,
            "padding": null,
            "grid_auto_rows": null,
            "grid_gap": null,
            "max_width": null,
            "order": null,
            "_view_module_version": "1.2.0",
            "grid_template_areas": null,
            "object_position": null,
            "object_fit": null,
            "grid_auto_columns": null,
            "margin": null,
            "display": null,
            "left": null
          }
        },
        "02ea1401d68d4f3280248bad67d45c78": {
          "model_module": "@jupyter-widgets/controls",
          "model_name": "DescriptionStyleModel",
          "state": {
            "_view_name": "StyleView",
            "_model_name": "DescriptionStyleModel",
            "description_width": "",
            "_view_module": "@jupyter-widgets/base",
            "_model_module_version": "1.5.0",
            "_view_count": null,
            "_view_module_version": "1.2.0",
            "_model_module": "@jupyter-widgets/controls"
          }
        },
        "b13e895801544c35a6d55e6dba78a427": {
          "model_module": "@jupyter-widgets/base",
          "model_name": "LayoutModel",
          "state": {
            "_view_name": "LayoutView",
            "grid_template_rows": null,
            "right": null,
            "justify_content": null,
            "_view_module": "@jupyter-widgets/base",
            "overflow": null,
            "_model_module_version": "1.2.0",
            "_view_count": null,
            "flex_flow": null,
            "width": null,
            "min_width": null,
            "border": null,
            "align_items": null,
            "bottom": null,
            "_model_module": "@jupyter-widgets/base",
            "top": null,
            "grid_column": null,
            "overflow_y": null,
            "overflow_x": null,
            "grid_auto_flow": null,
            "grid_area": null,
            "grid_template_columns": null,
            "flex": null,
            "_model_name": "LayoutModel",
            "justify_items": null,
            "grid_row": null,
            "max_height": null,
            "align_content": null,
            "visibility": null,
            "align_self": null,
            "height": null,
            "min_height": null,
            "padding": null,
            "grid_auto_rows": null,
            "grid_gap": null,
            "max_width": null,
            "order": null,
            "_view_module_version": "1.2.0",
            "grid_template_areas": null,
            "object_position": null,
            "object_fit": null,
            "grid_auto_columns": null,
            "margin": null,
            "display": null,
            "left": null
          }
        },
        "6d1221f19e6c46a09d881013043991a0": {
          "model_module": "@jupyter-widgets/controls",
          "model_name": "HBoxModel",
          "state": {
            "_view_name": "HBoxView",
            "_dom_classes": [],
            "_model_name": "HBoxModel",
            "_view_module": "@jupyter-widgets/controls",
            "_model_module_version": "1.5.0",
            "_view_count": null,
            "_view_module_version": "1.5.0",
            "box_style": "",
            "layout": "IPY_MODEL_ad8c083808714cffbe7104f152d49496",
            "_model_module": "@jupyter-widgets/controls",
            "children": [
              "IPY_MODEL_0060dc7ca9d04607bcea8c21d676983a",
              "IPY_MODEL_9bc6f865a0f14100bface75559554f42"
            ]
          }
        },
        "ad8c083808714cffbe7104f152d49496": {
          "model_module": "@jupyter-widgets/base",
          "model_name": "LayoutModel",
          "state": {
            "_view_name": "LayoutView",
            "grid_template_rows": null,
            "right": null,
            "justify_content": null,
            "_view_module": "@jupyter-widgets/base",
            "overflow": null,
            "_model_module_version": "1.2.0",
            "_view_count": null,
            "flex_flow": null,
            "width": null,
            "min_width": null,
            "border": null,
            "align_items": null,
            "bottom": null,
            "_model_module": "@jupyter-widgets/base",
            "top": null,
            "grid_column": null,
            "overflow_y": null,
            "overflow_x": null,
            "grid_auto_flow": null,
            "grid_area": null,
            "grid_template_columns": null,
            "flex": null,
            "_model_name": "LayoutModel",
            "justify_items": null,
            "grid_row": null,
            "max_height": null,
            "align_content": null,
            "visibility": null,
            "align_self": null,
            "height": null,
            "min_height": null,
            "padding": null,
            "grid_auto_rows": null,
            "grid_gap": null,
            "max_width": null,
            "order": null,
            "_view_module_version": "1.2.0",
            "grid_template_areas": null,
            "object_position": null,
            "object_fit": null,
            "grid_auto_columns": null,
            "margin": null,
            "display": null,
            "left": null
          }
        },
        "0060dc7ca9d04607bcea8c21d676983a": {
          "model_module": "@jupyter-widgets/controls",
          "model_name": "FloatProgressModel",
          "state": {
            "_view_name": "ProgressView",
            "style": "IPY_MODEL_323601ca25c142a5b947cf649379411a",
            "_dom_classes": [],
            "description": "  0%",
            "_model_name": "FloatProgressModel",
            "bar_style": "danger",
            "max": 10000,
            "_view_module": "@jupyter-widgets/controls",
            "_model_module_version": "1.5.0",
            "value": 0,
            "_view_count": null,
            "_view_module_version": "1.5.0",
            "orientation": "horizontal",
            "min": 0,
            "description_tooltip": null,
            "_model_module": "@jupyter-widgets/controls",
            "layout": "IPY_MODEL_f4a96e3eaf544957ab270666bd4ef190"
          }
        },
        "9bc6f865a0f14100bface75559554f42": {
          "model_module": "@jupyter-widgets/controls",
          "model_name": "HTMLModel",
          "state": {
            "_view_name": "HTMLView",
            "style": "IPY_MODEL_b8ca4a6ff3a3450d88e1f533a45dc7f1",
            "_dom_classes": [],
            "description": "",
            "_model_name": "HTMLModel",
            "placeholder": "​",
            "_view_module": "@jupyter-widgets/controls",
            "_model_module_version": "1.5.0",
            "value": " 0/10000 [00:00&lt;?, ? examples/s]",
            "_view_count": null,
            "_view_module_version": "1.5.0",
            "description_tooltip": null,
            "_model_module": "@jupyter-widgets/controls",
            "layout": "IPY_MODEL_4ed09fdc85b54ed3b4dfda7e04946f4c"
          }
        },
        "323601ca25c142a5b947cf649379411a": {
          "model_module": "@jupyter-widgets/controls",
          "model_name": "ProgressStyleModel",
          "state": {
            "_view_name": "StyleView",
            "_model_name": "ProgressStyleModel",
            "description_width": "initial",
            "_view_module": "@jupyter-widgets/base",
            "_model_module_version": "1.5.0",
            "_view_count": null,
            "_view_module_version": "1.2.0",
            "bar_color": null,
            "_model_module": "@jupyter-widgets/controls"
          }
        },
        "f4a96e3eaf544957ab270666bd4ef190": {
          "model_module": "@jupyter-widgets/base",
          "model_name": "LayoutModel",
          "state": {
            "_view_name": "LayoutView",
            "grid_template_rows": null,
            "right": null,
            "justify_content": null,
            "_view_module": "@jupyter-widgets/base",
            "overflow": null,
            "_model_module_version": "1.2.0",
            "_view_count": null,
            "flex_flow": null,
            "width": null,
            "min_width": null,
            "border": null,
            "align_items": null,
            "bottom": null,
            "_model_module": "@jupyter-widgets/base",
            "top": null,
            "grid_column": null,
            "overflow_y": null,
            "overflow_x": null,
            "grid_auto_flow": null,
            "grid_area": null,
            "grid_template_columns": null,
            "flex": null,
            "_model_name": "LayoutModel",
            "justify_items": null,
            "grid_row": null,
            "max_height": null,
            "align_content": null,
            "visibility": null,
            "align_self": null,
            "height": null,
            "min_height": null,
            "padding": null,
            "grid_auto_rows": null,
            "grid_gap": null,
            "max_width": null,
            "order": null,
            "_view_module_version": "1.2.0",
            "grid_template_areas": null,
            "object_position": null,
            "object_fit": null,
            "grid_auto_columns": null,
            "margin": null,
            "display": null,
            "left": null
          }
        },
        "b8ca4a6ff3a3450d88e1f533a45dc7f1": {
          "model_module": "@jupyter-widgets/controls",
          "model_name": "DescriptionStyleModel",
          "state": {
            "_view_name": "StyleView",
            "_model_name": "DescriptionStyleModel",
            "description_width": "",
            "_view_module": "@jupyter-widgets/base",
            "_model_module_version": "1.5.0",
            "_view_count": null,
            "_view_module_version": "1.2.0",
            "_model_module": "@jupyter-widgets/controls"
          }
        },
        "4ed09fdc85b54ed3b4dfda7e04946f4c": {
          "model_module": "@jupyter-widgets/base",
          "model_name": "LayoutModel",
          "state": {
            "_view_name": "LayoutView",
            "grid_template_rows": null,
            "right": null,
            "justify_content": null,
            "_view_module": "@jupyter-widgets/base",
            "overflow": null,
            "_model_module_version": "1.2.0",
            "_view_count": null,
            "flex_flow": null,
            "width": null,
            "min_width": null,
            "border": null,
            "align_items": null,
            "bottom": null,
            "_model_module": "@jupyter-widgets/base",
            "top": null,
            "grid_column": null,
            "overflow_y": null,
            "overflow_x": null,
            "grid_auto_flow": null,
            "grid_area": null,
            "grid_template_columns": null,
            "flex": null,
            "_model_name": "LayoutModel",
            "justify_items": null,
            "grid_row": null,
            "max_height": null,
            "align_content": null,
            "visibility": null,
            "align_self": null,
            "height": null,
            "min_height": null,
            "padding": null,
            "grid_auto_rows": null,
            "grid_gap": null,
            "max_width": null,
            "order": null,
            "_view_module_version": "1.2.0",
            "grid_template_areas": null,
            "object_position": null,
            "object_fit": null,
            "grid_auto_columns": null,
            "margin": null,
            "display": null,
            "left": null
          }
        }
      }
    }
  },
  "cells": [
    {
      "cell_type": "markdown",
      "metadata": {
        "id": "view-in-github",
        "colab_type": "text"
      },
      "source": [
        "<a href=\"https://colab.research.google.com/github/audrb1999/DL-Project/blob/main/02.AlexNet%20%EA%B5%AC%ED%98%84%20/1%EC%B0%A8_%EC%99%84%EC%84%B1%EB%B3%B8.ipynb\" target=\"_parent\"><img src=\"https://colab.research.google.com/assets/colab-badge.svg\" alt=\"Open In Colab\"/></a>"
      ]
    },
    {
      "cell_type": "markdown",
      "metadata": {
        "id": "yFEROVmiXuhZ"
      },
      "source": [
        "# AlexNet 구현\n",
        "\n"
      ]
    },
    {
      "cell_type": "markdown",
      "metadata": {
        "id": "gE4QyDD0YLqB"
      },
      "source": [
        "![image.png](data:image/png;base64,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)"
      ]
    },
    {
      "cell_type": "markdown",
      "metadata": {
        "id": "6gN9_X40YQqh"
      },
      "source": [
        "Layer은 \n",
        "\n",
        "- Input layer - Conv1 - MaxPool1 - Norm1 - Conv2 - MaxPool2 - Norm2 - Conv3 - Conv4 - Conv5 - Maxpool3 - FC1- FC2 - Output layer \n",
        "\n",
        "다음과 같이 구성되어 있습니다.\n"
      ]
    },
    {
      "cell_type": "markdown",
      "metadata": {
        "id": "SEi8ufuQlBG0"
      },
      "source": [
        "## Tensorflow 버전"
      ]
    },
    {
      "cell_type": "code",
      "metadata": {
        "id": "NzvgpfbglHb7"
      },
      "source": [
        "import tensorflow as tf\n",
        "import numpy as np\n",
        "import tensorflow as kears\n",
        "from tensorflow.keras import Model\n",
        "from tensorflow.keras.layers import Conv2D\n",
        "from tensorflow.keras.layers import Dense\n",
        "from tensorflow.keras.layers import BatchNormalization\n",
        "from tensorflow.keras.layers import Activation\n",
        "from tensorflow.keras.layers import MaxPool2D\n",
        "from tensorflow.keras.layers import GlobalAveragePooling2D\n",
        "from tensorflow.keras.layers import Add\n",
        "from tensorflow.keras.layers import Dropout\n",
        "from tensorflow.keras.layers import Flatten"
      ],
      "execution_count": null,
      "outputs": []
    },
    {
      "cell_type": "markdown",
      "metadata": {
        "id": "5NQMTVHArQGU"
      },
      "source": [
        "ImageNet 대신 Fashion-MNIST 데이터셋을 사용했습니다. 왜나면 일단 ImageNet의 데이터셋은 너무 큽니다. 학습시키는 데에 시간이 너무나도 많이 걸립니다.\n",
        "\n",
        "- Fashion-MNIST의 크기는 (28 x 28 x 1)이고 ImageNet의 크기는 (224 x 224 x 3)입니다. 그러므로 AlexNet의 구조를 그대로 사용시, 입력이미지가 너무 작아지기에, layer를 조금 줄였습니다.\n",
        "\n",
        "LRN 계층은 효과가 없기에 Batch Normalization을 대신 써줬습니다\n",
        "\n",
        "가중치 최적화는 Adam을 사용하였습니다.\n",
        "\n",
        " Overfitting을 방지하기 위해 Data Augmentation을 사용하였습니다. \n",
        "\n",
        " "
      ]
    },
    {
      "cell_type": "markdown",
      "metadata": {
        "id": "2LN16DBRqcQM"
      },
      "source": [
        "Conv2D \n",
        "\n",
        "- 첫 번째 인자 : 컨볼루션 필터의 수 입니다.\n",
        "- 두 번째 인자 : 컨볼루션 커널의 (행, 열) 입니다.\n",
        "- padding : 경계 처리 방법을 정의합니다\n",
        "   - ‘valid’ : 유효한 영역만 출력이 됩니다. 따라서 출력 이미지 사이즈는 입력 사이즈보다 작습니다.\n",
        "   - ‘same’ : 출력 이미지 사이즈가 입력 이미지 사이즈와 동일합니다.\n",
        "\n"
      ]
    },
    {
      "cell_type": "code",
      "metadata": {
        "id": "-1A_KDWxoNT1"
      },
      "source": [
        "class AlexNet(Model):\n",
        "    def __init__(self, input_shape, output_dim):\n",
        "        super().__init__()\n",
        "\n",
        "        self._layers = [\n",
        "                        #Conv1 - Pool1\n",
        "                        Conv2D(96, (11, 11), padding = 'same'),# ‘same’ : 출력 이미지 사이즈가 입력 이미지 사이즈와 동일합니다.\n",
        "                        BatchNormalization(),\n",
        "                        Activation(tf.nn.relu),\n",
        "                        MaxPool2D(pool_size=(2, 2)),#2d 공간상에서 풀링작업\n",
        "                        Dropout(0.25),# 드롭아웃 확률 25퍼\n",
        "\n",
        "                        #Conv2 - Conv3 - Conv4 - Pool2\n",
        "                        Conv2D(384, (5, 5), padding = 'same'),\n",
        "                        BatchNormalization(),\n",
        "                        Activation(tf.nn.relu),\n",
        "  \n",
        "\n",
        "                        Conv2D(384, (3, 3), padding ='same'),\n",
        "                        BatchNormalization(),\n",
        "                        Activation(tf.nn.relu),\n",
        "\n",
        "                        Conv2D(256, (3, 3), padding ='same'),\n",
        "                        BatchNormalization(),\n",
        "                        Activation(tf.nn.relu),\n",
        "                        MaxPool2D(pool_size=(3, 3)),\n",
        "                        Dropout(0.25),\n",
        "\n",
        "                        #FC1 - FC2 과적합이 될 확률이 높은 곳 중 하나\n",
        "                        Flatten(),\n",
        "                        Dense(3200),\n",
        "                        BatchNormalization(),\n",
        "                        Activation(tf.nn.relu),\n",
        "                        Dropout(0.5),\n",
        "                        Dense(3200),\n",
        "                        BatchNormalization(),\n",
        "                        Activation(tf.nn.relu),\n",
        "                        Dropout(0.5),\n",
        "\n",
        "                        # FC3\n",
        "                        Dense(output_dim),\n",
        "                        Activation(tf.nn.softmax)\n",
        "\n",
        "\n",
        "\n",
        "        ]\n",
        "\n",
        "    def call(self, x):\n",
        "        for layer in self._layers:\n",
        "            if isinstance(layer, list):\n",
        "                for l in layer:\n",
        "                    x = l(x)\n",
        "            else:\n",
        "                x = layer(x)\n",
        "        return x"
      ],
      "execution_count": null,
      "outputs": []
    },
    {
      "cell_type": "markdown",
      "metadata": {
        "id": "rQZPsEdHvgHa"
      },
      "source": [
        "Conv1, Pool1을 통과한 뒤 바로 Conv Layer 3개를 통과하고, FC Layer를 지나는 과정을 거칩니다. 또한 AlexNet이 호출될 때 아래의 call 메서드를 보면, 그냥 말 그대로 _layers 리스트변수에 저장된 원소들을 차례로 실행합니다\n",
        "\n",
        " "
      ]
    },
    {
      "cell_type": "code",
      "metadata": {
        "colab": {
          "base_uri": "https://localhost:8080/",
          "height": 1000,
          "referenced_widgets": [
            "645456598b304a40b8eaed1c0cdad9b9",
            "ea916b85503643d09779ca47717e432d",
            "9cebc8aa888247b68479d26a2cffdc8a",
            "fe6efd76ed84499d9bc33b68820654eb",
            "c97f209cfab64358be3fa08bb7fd5d82",
            "5229e560edc240f8bb4eefae142a498a",
            "09ac70a75993402b84639a01741273db",
            "ed60cd821d114fc481bd590ac8ff4bff",
            "f20b324418c447d6bd43e8523740fe6c",
            "f9ca16c2ffb64456acf878187f920d3c",
            "058684a96aea473ab4ce7f021e94ec41",
            "f8a5635108c04b1f942548849d08c1b7",
            "bede50c9fe944d7982b599179d9bd322",
            "b011f0d5a262478087f41e5a256fa479",
            "e2de8cb7dbcf477d91cb9278a45532c2",
            "7da55cc16d1c48ac9536161e1003d6e6",
            "33333d5901ac4cca965a9be47f23c874",
            "8b11c9a95ab4486898e2c7226cde2dba",
            "10fd8404042548129ca5ea83ccaa7946",
            "afa2b069f56446f687a45cf120606b9f",
            "7b9f0d5868474e63b5cd3f81050f452b",
            "2bf814d714d9415e88abe9eba683add4",
            "e36aefb6ef924be19c3f5aff233a6b62",
            "6a1c7b6ee7bb4df1b8403eb1d893191b",
            "f8367564886c4d3495a49c98a7a06b23",
            "dc52556f432d4c12b8919170a830c739",
            "38bdcfb0a28f4c9b820c00c6d652f6f6",
            "637bbce175ff4daa813e686775b295d9",
            "1782d3a38e5a412f8fd5cf242db3c769",
            "954fa98c6dcb435f83d4cba37f0cf025",
            "e5a84bd4e28f49b4b3dfbf39dfb12cae",
            "2868ceadfd014e0b8e48788305859700",
            "4c5edf9a30204427b4678b101e5d94d5",
            "497e2b5a87a24f54b288c583cfdbff1b",
            "331ef3c9133b449da2ed6e335c33b623",
            "9332c7c3e3be42c59a456b299a123863",
            "d68b7ee34fad404e8224318a44b96f5c",
            "ddeb5c93659e40d0ad6631103626c57a",
            "e9348769c70240ceb4dd4975725168b6",
            "f8ac973dbb654d3eb49555412acc4471",
            "bafeb2de698342148722d95fa60ed961",
            "c33c15a946514d45954642d51584b30a",
            "8fadb5ec27784f66b6b2adb02508b5a8",
            "5c1243743561442b9040d26daae6f813",
            "ba9b81175dfd4fddbfd6a258ed4ac328",
            "d68b83d162054303ad9745dfd48f3b6c",
            "02ea1401d68d4f3280248bad67d45c78",
            "b13e895801544c35a6d55e6dba78a427",
            "6d1221f19e6c46a09d881013043991a0",
            "ad8c083808714cffbe7104f152d49496",
            "0060dc7ca9d04607bcea8c21d676983a",
            "9bc6f865a0f14100bface75559554f42",
            "323601ca25c142a5b947cf649379411a",
            "f4a96e3eaf544957ab270666bd4ef190",
            "b8ca4a6ff3a3450d88e1f533a45dc7f1",
            "4ed09fdc85b54ed3b4dfda7e04946f4c"
          ]
        },
        "id": "bEd-qcN7vmFw",
        "outputId": "0062638d-c006-4b31-cccf-51b41b768069"
      },
      "source": [
        "import tensorflow_datasets as tfds\n",
        "from tensorflow.keras.preprocessing.image import ImageDataGenerator\n",
        "\n",
        "\n",
        "batch_size = 128\n",
        "num_epoch = 100\n",
        "train_accuracies = []\n",
        "test_accuracies = []\n",
        "\n",
        "# Fashion MNIST 데이터 셋 가져오기\n",
        "\n",
        "dataset, info = tfds.load('fashion_mnist', as_supervised = True, with_info = True)\n",
        "dataset_test, dataset_train = dataset['test'], dataset['train']\n",
        "\n",
        "def convert_types(image, label):\n",
        "    image = tf.cast(image, tf.float32)\n",
        "    image /= 255\n",
        "    return image, label\n",
        "\n",
        "# Fashion MNIST데이터 셋에 대해 0~1 데이터로 정규화 + 10000단위로 셔플 + 배치 128단위로 묶음\n",
        "dataset_train = dataset_train.map(convert_types).shuffle(10000).batch(batch_size)\n",
        "dataset_test = dataset_test.map(convert_types).batch(batch_size)\n",
        "\n",
        "#Data Augmentation\n",
        "datagen = ImageDataGenerator(rotation_range = 10, horizontal_flip = True, zoom_range = 0.1)\n",
        "\n",
        "#AlexNet \n",
        "\n",
        "model = AlexNet((28, 28, 1), 10)\n",
        "model.build(input_shape = (None, 28, 28, 1))\n",
        "model.summary()"
      ],
      "execution_count": null,
      "outputs": [
        {
          "output_type": "stream",
          "text": [
            "\u001b[1mDownloading and preparing dataset fashion_mnist/3.0.1 (download: 29.45 MiB, generated: 36.42 MiB, total: 65.87 MiB) to /root/tensorflow_datasets/fashion_mnist/3.0.1...\u001b[0m\n"
          ],
          "name": "stdout"
        },
        {
          "output_type": "display_data",
          "data": {
            "application/vnd.jupyter.widget-view+json": {
              "model_id": "645456598b304a40b8eaed1c0cdad9b9",
              "version_minor": 0,
              "version_major": 2
            },
            "text/plain": [
              "HBox(children=(FloatProgress(value=1.0, bar_style='info', description='Dl Completed...', max=1.0, style=Progre…"
            ]
          },
          "metadata": {
            "tags": []
          }
        },
        {
          "output_type": "display_data",
          "data": {
            "application/vnd.jupyter.widget-view+json": {
              "model_id": "f20b324418c447d6bd43e8523740fe6c",
              "version_minor": 0,
              "version_major": 2
            },
            "text/plain": [
              "HBox(children=(FloatProgress(value=1.0, bar_style='info', description='Dl Size...', max=1.0, style=ProgressSty…"
            ]
          },
          "metadata": {
            "tags": []
          }
        },
        {
          "output_type": "display_data",
          "data": {
            "application/vnd.jupyter.widget-view+json": {
              "model_id": "33333d5901ac4cca965a9be47f23c874",
              "version_minor": 0,
              "version_major": 2
            },
            "text/plain": [
              "HBox(children=(FloatProgress(value=1.0, bar_style='info', description='Extraction completed...', max=1.0, styl…"
            ]
          },
          "metadata": {
            "tags": []
          }
        },
        {
          "output_type": "stream",
          "text": [
            "\n",
            "\n",
            "\n",
            "\n",
            "\n",
            "\n"
          ],
          "name": "stdout"
        },
        {
          "output_type": "display_data",
          "data": {
            "application/vnd.jupyter.widget-view+json": {
              "model_id": "f8367564886c4d3495a49c98a7a06b23",
              "version_minor": 0,
              "version_major": 2
            },
            "text/plain": [
              "HBox(children=(FloatProgress(value=1.0, bar_style='info', max=1.0), HTML(value='')))"
            ]
          },
          "metadata": {
            "tags": []
          }
        },
        {
          "output_type": "stream",
          "text": [
            "\rShuffling and writing examples to /root/tensorflow_datasets/fashion_mnist/3.0.1.incomplete1NPPU0/fashion_mnist-train.tfrecord\n"
          ],
          "name": "stdout"
        },
        {
          "output_type": "display_data",
          "data": {
            "application/vnd.jupyter.widget-view+json": {
              "model_id": "4c5edf9a30204427b4678b101e5d94d5",
              "version_minor": 0,
              "version_major": 2
            },
            "text/plain": [
              "HBox(children=(FloatProgress(value=0.0, max=60000.0), HTML(value='')))"
            ]
          },
          "metadata": {
            "tags": []
          }
        },
        {
          "output_type": "stream",
          "text": [
            "\r"
          ],
          "name": "stdout"
        },
        {
          "output_type": "display_data",
          "data": {
            "application/vnd.jupyter.widget-view+json": {
              "model_id": "bafeb2de698342148722d95fa60ed961",
              "version_minor": 0,
              "version_major": 2
            },
            "text/plain": [
              "HBox(children=(FloatProgress(value=1.0, bar_style='info', max=1.0), HTML(value='')))"
            ]
          },
          "metadata": {
            "tags": []
          }
        },
        {
          "output_type": "stream",
          "text": [
            "\rShuffling and writing examples to /root/tensorflow_datasets/fashion_mnist/3.0.1.incomplete1NPPU0/fashion_mnist-test.tfrecord\n"
          ],
          "name": "stdout"
        },
        {
          "output_type": "display_data",
          "data": {
            "application/vnd.jupyter.widget-view+json": {
              "model_id": "6d1221f19e6c46a09d881013043991a0",
              "version_minor": 0,
              "version_major": 2
            },
            "text/plain": [
              "HBox(children=(FloatProgress(value=0.0, max=10000.0), HTML(value='')))"
            ]
          },
          "metadata": {
            "tags": []
          }
        },
        {
          "output_type": "stream",
          "text": [
            "\u001b[1mDataset fashion_mnist downloaded and prepared to /root/tensorflow_datasets/fashion_mnist/3.0.1. Subsequent calls will reuse this data.\u001b[0m\n",
            "\rModel: \"alex_net\"\n",
            "_________________________________________________________________\n",
            "Layer (type)                 Output Shape              Param #   \n",
            "=================================================================\n",
            "conv2d (Conv2D)              multiple                  11712     \n",
            "_________________________________________________________________\n",
            "batch_normalization (BatchNo multiple                  384       \n",
            "_________________________________________________________________\n",
            "activation (Activation)      multiple                  0         \n",
            "_________________________________________________________________\n",
            "max_pooling2d (MaxPooling2D) multiple                  0         \n",
            "_________________________________________________________________\n",
            "dropout (Dropout)            multiple                  0         \n",
            "_________________________________________________________________\n",
            "conv2d_1 (Conv2D)            multiple                  921984    \n",
            "_________________________________________________________________\n",
            "batch_normalization_1 (Batch multiple                  1536      \n",
            "_________________________________________________________________\n",
            "activation_1 (Activation)    multiple                  0         \n",
            "_________________________________________________________________\n",
            "conv2d_2 (Conv2D)            multiple                  1327488   \n",
            "_________________________________________________________________\n",
            "batch_normalization_2 (Batch multiple                  1536      \n",
            "_________________________________________________________________\n",
            "activation_2 (Activation)    multiple                  0         \n",
            "_________________________________________________________________\n",
            "conv2d_3 (Conv2D)            multiple                  884992    \n",
            "_________________________________________________________________\n",
            "batch_normalization_3 (Batch multiple                  1024      \n",
            "_________________________________________________________________\n",
            "activation_3 (Activation)    multiple                  0         \n",
            "_________________________________________________________________\n",
            "max_pooling2d_1 (MaxPooling2 multiple                  0         \n",
            "_________________________________________________________________\n",
            "dropout_1 (Dropout)          multiple                  0         \n",
            "_________________________________________________________________\n",
            "flatten (Flatten)            multiple                  0         \n",
            "_________________________________________________________________\n",
            "dense (Dense)                multiple                  13110400  \n",
            "_________________________________________________________________\n",
            "batch_normalization_4 (Batch multiple                  12800     \n",
            "_________________________________________________________________\n",
            "activation_4 (Activation)    multiple                  0         \n",
            "_________________________________________________________________\n",
            "dropout_2 (Dropout)          multiple                  0         \n",
            "_________________________________________________________________\n",
            "dense_1 (Dense)              multiple                  10243200  \n",
            "_________________________________________________________________\n",
            "batch_normalization_5 (Batch multiple                  12800     \n",
            "_________________________________________________________________\n",
            "activation_5 (Activation)    multiple                  0         \n",
            "_________________________________________________________________\n",
            "dropout_3 (Dropout)          multiple                  0         \n",
            "_________________________________________________________________\n",
            "dense_2 (Dense)              multiple                  32010     \n",
            "_________________________________________________________________\n",
            "activation_6 (Activation)    multiple                  0         \n",
            "=================================================================\n",
            "Total params: 26,561,866\n",
            "Trainable params: 26,546,826\n",
            "Non-trainable params: 15,040\n",
            "_________________________________________________________________\n"
          ],
          "name": "stdout"
        }
      ]
    },
    {
      "cell_type": "code",
      "metadata": {
        "id": "35UnXO8zzf5w"
      },
      "source": [
        "\n",
        "loss_object = tf.keras.losses.SparseCategoricalCrossentropy() # 입력값에 대해 원핫라벨한 뒤, 교차엔트로피에 통과하여 loss검사\n",
        "optimizer = tf.keras.optimizers.Adam() #최적화는 Adam사용\n",
        "\n",
        "#훈련시 loss 저장할 변수 선언\n",
        "train_loss = tf.keras.metrics.Mean(name = 'train_loss')\n",
        "train_accuracy = tf.keras.metrics.SparseCategoricalAccuracy(name = 'train_accuracy')\n",
        "\n",
        "test_loss = tf.keras.metrics.Mean(name = 'test_loss')\n",
        "test_accuracy = tf.keras.metrics.SparseCategoricalAccuracy(name = 'test_accuracy')\n",
        "\n",
        "def train_step(image, label): # 훈련 이미지, 라벨\n",
        "    with tf.GradientTape() as tape:\n",
        "        # 아래 내용 안에서 실행된 모든 연산을 tape에 기록\n",
        "        # 그 후, 기록된 연산에 대해 역전파를 자동계산\n",
        "        predictions = model(image) # 모델에 훈련 이미지 넣어서 나온 결과 저장\n",
        "        loss = loss_object(label, predictions) # label과 추론 값에 대한 loss를 저장\n",
        "\n",
        "    gradients = tape.gradient(loss, model.trainable_variables) # train_loss에는 모든 훈련 데이터에 대한 평균 loss값 저장\n",
        "    optimizer.apply_gradients(zip(gradients, model.trainable_variables)) # 최적화 방법은 Adam을 써서 역전파 갱신\n",
        "\n",
        "    train_loss(loss) # train_loss에는 모든 훈련 데이터에 대한 평균 loss값이 저장\n",
        "    train_accuracy(label, predictions) # train_accuracy에는 훈련 데이터 넣을 때의 accuracy값이 저장\n",
        "\n",
        "def test_step(image, label): # 훈련 이미지, 훈련 라벨\n",
        "    predictions = model(image) # 모델에 시험 이미지 넣어서 나온 결과 저장\n",
        "    loss = loss_object(label, predictions) # label과 추론값에 대한 loss를 저장\n",
        "\n",
        "    test_loss(loss) # test_loss에는 모든 시험 데이터에 대한 평균 loss 값이 저장\n",
        "    test_accuracy(label, predictions) # test_accuracy\n",
        "\n"
      ],
      "execution_count": null,
      "outputs": []
    },
    {
      "cell_type": "code",
      "metadata": {
        "colab": {
          "base_uri": "https://localhost:8080/",
          "height": 430
        },
        "id": "xsTK2JLFAUXF",
        "outputId": "58c2e619-4a2b-45e1-a4cf-6d4a4faf06d5"
      },
      "source": [
        "for epoch in range(num_epoch):\n",
        "    for image, label in dataset_train: # 훈련 데이셋의 데이터와 레이블\n",
        "        for _image, _label in datagen.flow(image, label, batch_size = batch_size):\n",
        "            # Data Agumentation된 훈련 데이터를 _image, 훈련 레이블을, _label로 저장\n",
        "            train_step(_image, _label) #모델에 실험 데이터 셋을 넣음\n",
        "            break\n",
        "            # 훈련 종료\n",
        "\n",
        "for test_image, test_label in dataset_test: # 시험 데이터셋의 데이터와 레이블\n",
        "    test_step(test_image, test_label) # 모델에 시험 데이터셋을 넣음\n",
        "# 시험 데이터셋에 대한 시험 종료\n",
        "\n",
        "train_accuracies.append(train_accuracy.result())\n",
        "test_accuracies.append(test_accuracy.result())\n",
        "\n",
        "print(f'Epoch{epoch + 1}, Loss{train_loss.result()}, Accuracy{train_accuracy.result()*100}, Test Loss:{test_loss.result()}, test_accuracy{test_accuracy.result()*100}')\n",
        "\n",
        "# 시간이 너무 오래 걸려 도중에 얼리 스탑하였습니다."
      ],
      "execution_count": null,
      "outputs": [
        {
          "output_type": "error",
          "ename": "KeyboardInterrupt",
          "evalue": "ignored",
          "traceback": [
            "\u001b[0;31m---------------------------------------------------------------------------\u001b[0m",
            "\u001b[0;31mKeyboardInterrupt\u001b[0m                         Traceback (most recent call last)",
            "\u001b[0;32m<ipython-input-5-288101ac86b7>\u001b[0m in \u001b[0;36m<module>\u001b[0;34m()\u001b[0m\n\u001b[1;32m      3\u001b[0m         \u001b[0;32mfor\u001b[0m \u001b[0m_image\u001b[0m\u001b[0;34m,\u001b[0m \u001b[0m_label\u001b[0m \u001b[0;32min\u001b[0m \u001b[0mdatagen\u001b[0m\u001b[0;34m.\u001b[0m\u001b[0mflow\u001b[0m\u001b[0;34m(\u001b[0m\u001b[0mimage\u001b[0m\u001b[0;34m,\u001b[0m \u001b[0mlabel\u001b[0m\u001b[0;34m,\u001b[0m \u001b[0mbatch_size\u001b[0m \u001b[0;34m=\u001b[0m \u001b[0mbatch_size\u001b[0m\u001b[0;34m)\u001b[0m\u001b[0;34m:\u001b[0m\u001b[0;34m\u001b[0m\u001b[0;34m\u001b[0m\u001b[0m\n\u001b[1;32m      4\u001b[0m             \u001b[0;31m# Data Agumentation된 훈련 데이터를 _image, 훈련 레이블을, _label로 저장\u001b[0m\u001b[0;34m\u001b[0m\u001b[0;34m\u001b[0m\u001b[0;34m\u001b[0m\u001b[0m\n\u001b[0;32m----> 5\u001b[0;31m             \u001b[0mtrain_step\u001b[0m\u001b[0;34m(\u001b[0m\u001b[0m_image\u001b[0m\u001b[0;34m,\u001b[0m \u001b[0m_label\u001b[0m\u001b[0;34m)\u001b[0m \u001b[0;31m#모델에 실험 데이터 셋을 넣음\u001b[0m\u001b[0;34m\u001b[0m\u001b[0;34m\u001b[0m\u001b[0m\n\u001b[0m\u001b[1;32m      6\u001b[0m             \u001b[0;32mbreak\u001b[0m\u001b[0;34m\u001b[0m\u001b[0;34m\u001b[0m\u001b[0m\n\u001b[1;32m      7\u001b[0m             \u001b[0;31m# 훈련 종료\u001b[0m\u001b[0;34m\u001b[0m\u001b[0;34m\u001b[0m\u001b[0;34m\u001b[0m\u001b[0m\n",
            "\u001b[0;32m<ipython-input-4-938765ac959b>\u001b[0m in \u001b[0;36mtrain_step\u001b[0;34m(image, label)\u001b[0m\n\u001b[1;32m     17\u001b[0m         \u001b[0mloss\u001b[0m \u001b[0;34m=\u001b[0m \u001b[0mloss_object\u001b[0m\u001b[0;34m(\u001b[0m\u001b[0mlabel\u001b[0m\u001b[0;34m,\u001b[0m \u001b[0mpredictions\u001b[0m\u001b[0;34m)\u001b[0m \u001b[0;31m# label과 추론 값에 대한 loss를 저장\u001b[0m\u001b[0;34m\u001b[0m\u001b[0;34m\u001b[0m\u001b[0m\n\u001b[1;32m     18\u001b[0m \u001b[0;34m\u001b[0m\u001b[0m\n\u001b[0;32m---> 19\u001b[0;31m     \u001b[0mgradients\u001b[0m \u001b[0;34m=\u001b[0m \u001b[0mtape\u001b[0m\u001b[0;34m.\u001b[0m\u001b[0mgradient\u001b[0m\u001b[0;34m(\u001b[0m\u001b[0mloss\u001b[0m\u001b[0;34m,\u001b[0m \u001b[0mmodel\u001b[0m\u001b[0;34m.\u001b[0m\u001b[0mtrainable_variables\u001b[0m\u001b[0;34m)\u001b[0m \u001b[0;31m# train_loss에는 모든 훈련 데이터에 대한 평균 loss값 저장\u001b[0m\u001b[0;34m\u001b[0m\u001b[0;34m\u001b[0m\u001b[0m\n\u001b[0m\u001b[1;32m     20\u001b[0m     \u001b[0moptimizer\u001b[0m\u001b[0;34m.\u001b[0m\u001b[0mapply_gradients\u001b[0m\u001b[0;34m(\u001b[0m\u001b[0mzip\u001b[0m\u001b[0;34m(\u001b[0m\u001b[0mgradients\u001b[0m\u001b[0;34m,\u001b[0m \u001b[0mmodel\u001b[0m\u001b[0;34m.\u001b[0m\u001b[0mtrainable_variables\u001b[0m\u001b[0;34m)\u001b[0m\u001b[0;34m)\u001b[0m \u001b[0;31m# 최적화 방법은 Adam을 써서 역전파 갱신\u001b[0m\u001b[0;34m\u001b[0m\u001b[0;34m\u001b[0m\u001b[0m\n\u001b[1;32m     21\u001b[0m \u001b[0;34m\u001b[0m\u001b[0m\n",
            "\u001b[0;32m/usr/local/lib/python3.7/dist-packages/tensorflow/python/eager/backprop.py\u001b[0m in \u001b[0;36mgradient\u001b[0;34m(self, target, sources, output_gradients, unconnected_gradients)\u001b[0m\n\u001b[1;32m   1078\u001b[0m         \u001b[0moutput_gradients\u001b[0m\u001b[0;34m=\u001b[0m\u001b[0moutput_gradients\u001b[0m\u001b[0;34m,\u001b[0m\u001b[0;34m\u001b[0m\u001b[0;34m\u001b[0m\u001b[0m\n\u001b[1;32m   1079\u001b[0m         \u001b[0msources_raw\u001b[0m\u001b[0;34m=\u001b[0m\u001b[0mflat_sources_raw\u001b[0m\u001b[0;34m,\u001b[0m\u001b[0;34m\u001b[0m\u001b[0;34m\u001b[0m\u001b[0m\n\u001b[0;32m-> 1080\u001b[0;31m         unconnected_gradients=unconnected_gradients)\n\u001b[0m\u001b[1;32m   1081\u001b[0m \u001b[0;34m\u001b[0m\u001b[0m\n\u001b[1;32m   1082\u001b[0m     \u001b[0;32mif\u001b[0m \u001b[0;32mnot\u001b[0m \u001b[0mself\u001b[0m\u001b[0;34m.\u001b[0m\u001b[0m_persistent\u001b[0m\u001b[0;34m:\u001b[0m\u001b[0;34m\u001b[0m\u001b[0;34m\u001b[0m\u001b[0m\n",
            "\u001b[0;32m/usr/local/lib/python3.7/dist-packages/tensorflow/python/eager/imperative_grad.py\u001b[0m in \u001b[0;36mimperative_grad\u001b[0;34m(tape, target, sources, output_gradients, sources_raw, unconnected_gradients)\u001b[0m\n\u001b[1;32m     75\u001b[0m       \u001b[0moutput_gradients\u001b[0m\u001b[0;34m,\u001b[0m\u001b[0;34m\u001b[0m\u001b[0;34m\u001b[0m\u001b[0m\n\u001b[1;32m     76\u001b[0m       \u001b[0msources_raw\u001b[0m\u001b[0;34m,\u001b[0m\u001b[0;34m\u001b[0m\u001b[0;34m\u001b[0m\u001b[0m\n\u001b[0;32m---> 77\u001b[0;31m       compat.as_str(unconnected_gradients.value))\n\u001b[0m",
            "\u001b[0;32m/usr/local/lib/python3.7/dist-packages/tensorflow/python/eager/backprop.py\u001b[0m in \u001b[0;36m_gradient_function\u001b[0;34m(op_name, attr_tuple, num_inputs, inputs, outputs, out_grads, skip_input_indices, forward_pass_name_scope)\u001b[0m\n\u001b[1;32m    157\u001b[0m       \u001b[0mgradient_name_scope\u001b[0m \u001b[0;34m+=\u001b[0m \u001b[0mforward_pass_name_scope\u001b[0m \u001b[0;34m+\u001b[0m \u001b[0;34m\"/\"\u001b[0m\u001b[0;34m\u001b[0m\u001b[0;34m\u001b[0m\u001b[0m\n\u001b[1;32m    158\u001b[0m     \u001b[0;32mwith\u001b[0m \u001b[0mops\u001b[0m\u001b[0;34m.\u001b[0m\u001b[0mname_scope\u001b[0m\u001b[0;34m(\u001b[0m\u001b[0mgradient_name_scope\u001b[0m\u001b[0;34m)\u001b[0m\u001b[0;34m:\u001b[0m\u001b[0;34m\u001b[0m\u001b[0;34m\u001b[0m\u001b[0m\n\u001b[0;32m--> 159\u001b[0;31m       \u001b[0;32mreturn\u001b[0m \u001b[0mgrad_fn\u001b[0m\u001b[0;34m(\u001b[0m\u001b[0mmock_op\u001b[0m\u001b[0;34m,\u001b[0m \u001b[0;34m*\u001b[0m\u001b[0mout_grads\u001b[0m\u001b[0;34m)\u001b[0m\u001b[0;34m\u001b[0m\u001b[0;34m\u001b[0m\u001b[0m\n\u001b[0m\u001b[1;32m    160\u001b[0m   \u001b[0;32melse\u001b[0m\u001b[0;34m:\u001b[0m\u001b[0;34m\u001b[0m\u001b[0;34m\u001b[0m\u001b[0m\n\u001b[1;32m    161\u001b[0m     \u001b[0;32mreturn\u001b[0m \u001b[0mgrad_fn\u001b[0m\u001b[0;34m(\u001b[0m\u001b[0mmock_op\u001b[0m\u001b[0;34m,\u001b[0m \u001b[0;34m*\u001b[0m\u001b[0mout_grads\u001b[0m\u001b[0;34m)\u001b[0m\u001b[0;34m\u001b[0m\u001b[0;34m\u001b[0m\u001b[0m\n",
            "\u001b[0;32m/usr/local/lib/python3.7/dist-packages/tensorflow/python/ops/nn_grad.py\u001b[0m in \u001b[0;36m_Conv2DGrad\u001b[0;34m(op, grad)\u001b[0m\n\u001b[1;32m    598\u001b[0m           \u001b[0mexplicit_paddings\u001b[0m\u001b[0;34m=\u001b[0m\u001b[0mexplicit_paddings\u001b[0m\u001b[0;34m,\u001b[0m\u001b[0;34m\u001b[0m\u001b[0;34m\u001b[0m\u001b[0m\n\u001b[1;32m    599\u001b[0m           \u001b[0muse_cudnn_on_gpu\u001b[0m\u001b[0;34m=\u001b[0m\u001b[0muse_cudnn_on_gpu\u001b[0m\u001b[0;34m,\u001b[0m\u001b[0;34m\u001b[0m\u001b[0;34m\u001b[0m\u001b[0m\n\u001b[0;32m--> 600\u001b[0;31m           data_format=data_format)\n\u001b[0m\u001b[1;32m    601\u001b[0m   ]\n\u001b[1;32m    602\u001b[0m \u001b[0;34m\u001b[0m\u001b[0m\n",
            "\u001b[0;32m/usr/local/lib/python3.7/dist-packages/tensorflow/python/ops/gen_nn_ops.py\u001b[0m in \u001b[0;36mconv2d_backprop_filter\u001b[0;34m(input, filter_sizes, out_backprop, strides, padding, use_cudnn_on_gpu, explicit_paddings, data_format, dilations, name)\u001b[0m\n\u001b[1;32m   1082\u001b[0m         \u001b[0;34m\"strides\"\u001b[0m\u001b[0;34m,\u001b[0m \u001b[0mstrides\u001b[0m\u001b[0;34m,\u001b[0m \u001b[0;34m\"use_cudnn_on_gpu\"\u001b[0m\u001b[0;34m,\u001b[0m \u001b[0muse_cudnn_on_gpu\u001b[0m\u001b[0;34m,\u001b[0m \u001b[0;34m\"padding\"\u001b[0m\u001b[0;34m,\u001b[0m\u001b[0;34m\u001b[0m\u001b[0;34m\u001b[0m\u001b[0m\n\u001b[1;32m   1083\u001b[0m         \u001b[0mpadding\u001b[0m\u001b[0;34m,\u001b[0m \u001b[0;34m\"explicit_paddings\"\u001b[0m\u001b[0;34m,\u001b[0m \u001b[0mexplicit_paddings\u001b[0m\u001b[0;34m,\u001b[0m \u001b[0;34m\"data_format\"\u001b[0m\u001b[0;34m,\u001b[0m\u001b[0;34m\u001b[0m\u001b[0;34m\u001b[0m\u001b[0m\n\u001b[0;32m-> 1084\u001b[0;31m         data_format, \"dilations\", dilations)\n\u001b[0m\u001b[1;32m   1085\u001b[0m       \u001b[0;32mreturn\u001b[0m \u001b[0m_result\u001b[0m\u001b[0;34m\u001b[0m\u001b[0;34m\u001b[0m\u001b[0m\n\u001b[1;32m   1086\u001b[0m     \u001b[0;32mexcept\u001b[0m \u001b[0m_core\u001b[0m\u001b[0;34m.\u001b[0m\u001b[0m_NotOkStatusException\u001b[0m \u001b[0;32mas\u001b[0m \u001b[0me\u001b[0m\u001b[0;34m:\u001b[0m\u001b[0;34m\u001b[0m\u001b[0;34m\u001b[0m\u001b[0m\n",
            "\u001b[0;31mKeyboardInterrupt\u001b[0m: "
          ]
        }
      ]
    },
    {
      "cell_type": "code",
      "metadata": {
        "colab": {
          "base_uri": "https://localhost:8080/"
        },
        "id": "xdL2Rjm8Y3-B",
        "outputId": "77eadee3-5aca-40af-e874-045c59ebeb40"
      },
      "source": [
        "for test_image, test_label in dataset_test: # 시험 데이터셋의 데이터와 레이블\n",
        "    test_step(test_image, test_label) # 모델에 시험 데이터셋을 넣음\n",
        "# 시험 데이터셋에 대한 시험 종료\n",
        "\n",
        "train_accuracies.append(train_accuracy.result())\n",
        "test_accuracies.append(test_accuracy.result())\n",
        "\n",
        "print(f'Epoch{epoch + 1}, Loss{train_loss.result()}, Accuracy{train_accuracy.result()}, Test Loss:{test_loss.result()}, test_accuracy{test_accuracy.result()}')\n"
      ],
      "execution_count": null,
      "outputs": [
        {
          "output_type": "stream",
          "text": [
            "Epoch44, Loss0.18958619236946106, Accuracy0.9273327589035034, Test Loss:0.34585970640182495, test_accuracy0.916700005531311\n"
          ],
          "name": "stdout"
        }
      ]
    },
    {
      "cell_type": "markdown",
      "metadata": {
        "id": "xiq91UfUk-52"
      },
      "source": [
        "## Pytorch 버전 (진행중)"
      ]
    },
    {
      "cell_type": "code",
      "metadata": {
        "colab": {
          "base_uri": "https://localhost:8080/"
        },
        "id": "b-g-Cpobchag",
        "outputId": "11c15881-076a-4931-ac6f-0891140b1548"
      },
      "source": [
        "!pip install tensorboardX"
      ],
      "execution_count": null,
      "outputs": [
        {
          "output_type": "stream",
          "text": [
            "Collecting tensorboardX\n",
            "\u001b[?25l  Downloading https://files.pythonhosted.org/packages/07/84/46421bd3e0e89a92682b1a38b40efc22dafb6d8e3d947e4ceefd4a5fabc7/tensorboardX-2.2-py2.py3-none-any.whl (120kB)\n",
            "\r\u001b[K     |██▊                             | 10kB 16.8MB/s eta 0:00:01\r\u001b[K     |█████▍                          | 20kB 23.0MB/s eta 0:00:01\r\u001b[K     |████████▏                       | 30kB 26.0MB/s eta 0:00:01\r\u001b[K     |██████████▉                     | 40kB 17.5MB/s eta 0:00:01\r\u001b[K     |█████████████▋                  | 51kB 13.1MB/s eta 0:00:01\r\u001b[K     |████████████████▎               | 61kB 11.0MB/s eta 0:00:01\r\u001b[K     |███████████████████             | 71kB 12.2MB/s eta 0:00:01\r\u001b[K     |█████████████████████▊          | 81kB 13.2MB/s eta 0:00:01\r\u001b[K     |████████████████████████▌       | 92kB 13.7MB/s eta 0:00:01\r\u001b[K     |███████████████████████████▏    | 102kB 12.6MB/s eta 0:00:01\r\u001b[K     |██████████████████████████████  | 112kB 12.6MB/s eta 0:00:01\r\u001b[K     |████████████████████████████████| 122kB 12.6MB/s \n",
            "\u001b[?25hRequirement already satisfied: numpy in /usr/local/lib/python3.7/dist-packages (from tensorboardX) (1.19.5)\n",
            "Requirement already satisfied: protobuf>=3.8.0 in /usr/local/lib/python3.7/dist-packages (from tensorboardX) (3.12.4)\n",
            "Requirement already satisfied: setuptools in /usr/local/lib/python3.7/dist-packages (from protobuf>=3.8.0->tensorboardX) (57.0.0)\n",
            "Requirement already satisfied: six>=1.9 in /usr/local/lib/python3.7/dist-packages (from protobuf>=3.8.0->tensorboardX) (1.15.0)\n",
            "Installing collected packages: tensorboardX\n",
            "Successfully installed tensorboardX-2.2\n"
          ],
          "name": "stdout"
        }
      ]
    },
    {
      "cell_type": "code",
      "metadata": {
        "id": "g_GTov6JXmX8"
      },
      "source": [
        "import os\n",
        "import torch\n",
        "import torch.nn as nn #신경망을 구축하기 위한 데이터 구조나 레이어 존재: RNN LSTM, ReLU, MSELoss\n",
        "import torch.optim as optim #확률적 경사 하강법같은 최적화 알고리즘 구현이 되어있음 \n",
        "import torch.nn.functional as F \n",
        "from torch.utils import data # SGD의 반복 연산을 실행할 때 사용되는 미니 배치용 유틸 함수가 존재\n",
        "import torchvision.datasets as datasets \n",
        "import torchvision.transforms as transforms\n",
        "from tensorboardX import SummaryWriter"
      ],
      "execution_count": null,
      "outputs": []
    },
    {
      "cell_type": "code",
      "metadata": {
        "colab": {
          "base_uri": "https://localhost:8080/"
        },
        "id": "YLfZJ9iScXBg",
        "outputId": "bcd36520-0bb1-4b44-f96f-10fd412a1eb3"
      },
      "source": [
        "!nvidia-smi # Jupyter Notebook에서 명령어를 입력할 경우"
      ],
      "execution_count": null,
      "outputs": [
        {
          "output_type": "stream",
          "text": [
            "Sun Jun 13 12:56:56 2021       \n",
            "+-----------------------------------------------------------------------------+\n",
            "| NVIDIA-SMI 465.27       Driver Version: 460.32.03    CUDA Version: 11.2     |\n",
            "|-------------------------------+----------------------+----------------------+\n",
            "| GPU  Name        Persistence-M| Bus-Id        Disp.A | Volatile Uncorr. ECC |\n",
            "| Fan  Temp  Perf  Pwr:Usage/Cap|         Memory-Usage | GPU-Util  Compute M. |\n",
            "|                               |                      |               MIG M. |\n",
            "|===============================+======================+======================|\n",
            "|   0  Tesla K80           Off  | 00000000:00:04.0 Off |                    0 |\n",
            "| N/A   32C    P8    28W / 149W |      0MiB / 11441MiB |      0%      Default |\n",
            "|                               |                      |                  N/A |\n",
            "+-------------------------------+----------------------+----------------------+\n",
            "                                                                               \n",
            "+-----------------------------------------------------------------------------+\n",
            "| Processes:                                                                  |\n",
            "|  GPU   GI   CI        PID   Type   Process name                  GPU Memory |\n",
            "|        ID   ID                                                   Usage      |\n",
            "|=============================================================================|\n",
            "|  No running processes found                                                 |\n",
            "+-----------------------------------------------------------------------------+\n"
          ],
          "name": "stdout"
        }
      ]
    },
    {
      "cell_type": "code",
      "metadata": {
        "id": "RQBb_mfGZ1rA"
      },
      "source": [
        "# pytorch device 정의하기\n",
        "# gpu \n",
        "device = torch.device('cuda' if torch.cuda.is_available() else 'cpu')"
      ],
      "execution_count": null,
      "outputs": []
    },
    {
      "cell_type": "code",
      "metadata": {
        "id": "BDOIsMCSiT6_"
      },
      "source": [
        ""
      ],
      "execution_count": null,
      "outputs": []
    }
  ]
}