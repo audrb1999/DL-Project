{
  "nbformat": 4,
  "nbformat_minor": 0,
  "metadata": {
    "colab": {
      "name": "git_hub13.ipynb",
      "provenance": [],
      "toc_visible": true,
      "authorship_tag": "ABX9TyN4ByxiC0PLkzeD7BN2iGBX",
      "include_colab_link": true
    },
    "kernelspec": {
      "name": "python3",
      "display_name": "Python 3"
    },
    "language_info": {
      "name": "python"
    }
  },
  "cells": [
    {
      "cell_type": "markdown",
      "metadata": {
        "id": "view-in-github",
        "colab_type": "text"
      },
      "source": [
        "<a href=\"https://colab.research.google.com/github/audrb1999/DL-Project/blob/main/numpy_XOR_%EA%B5%AC%ED%98%84/01.%EA%B8%B0%EB%B3%B8%EC%A0%81%EC%9D%B8%20%ED%81%B4%EB%9E%98%EC%8A%A4%20%EA%B5%AC%ED%98%84.ipynb\" target=\"_parent\"><img src=\"https://colab.research.google.com/assets/colab-badge.svg\" alt=\"Open In Colab\"/></a>"
      ]
    },
    {
      "cell_type": "markdown",
      "metadata": {
        "id": "mRHrgBRYQe_O"
      },
      "source": [
        "##***1.기본적인 클래스 구현***\n",
        "1. Layer\n",
        "2. Step function\n",
        "3. Perceptron"
      ]
    },
    {
      "cell_type": "code",
      "metadata": {
        "id": "K3SHga2jMLxM"
      },
      "source": [
        "class Layer:\n",
        "    def __init__(self):# 모든 함수들이 공통으로 입출력을 조절\n",
        "        self.input = None\n",
        "        self.output = None\n",
        "    \n",
        "    def forward(self, x):# 모든 함수들이 공통으로 사용하는 순전파 \n",
        "        self.input = x\n",
        "        self.output = self._forward(x)\n",
        "        return self.output\n",
        "\n",
        "    def _forward(self, x):\n",
        "        raise NotImplementedError\n",
        "\n",
        "\n",
        "    "
      ],
      "execution_count": 1,
      "outputs": []
    },
    {
      "cell_type": "code",
      "metadata": {
        "id": "Kc5Y3pmmMQIq"
      },
      "source": [
        "import numpy as np\n",
        "\n",
        "class StepFunction(Layer):\n",
        "    def _forward(self, x):\n",
        "        y = x > 0\n",
        "        return y.astype(np.int)\n",
        "\n",
        "class Perceptron(Layer):\n",
        "    def __init__(self, weights, bias, activation=None):\n",
        "        super().__init__() # 만약 상위 클래스 Layer가 호출되지 않아도 실행할 수 있게하는 것\n",
        "        self.weights = weights\n",
        "        self.bias = bias\n",
        "        self.activation = activation\n",
        "\n",
        "    def _forward(self, x): # 활성화 함수 유무를 위한 if 문\n",
        "        a = np.matmul(x, self.weights) + self.bias\n",
        "        if self.activation != None:\n",
        "            y = self.activation.forward(a)\n",
        "            return y\n",
        "        return a"
      ],
      "execution_count": 2,
      "outputs": []
    },
    {
      "cell_type": "markdown",
      "metadata": {
        "id": "5BL-rMJ-7okW"
      },
      "source": [
        "\n",
        "1. 퍼셉트론이 제대로 동작하는지 확인"
      ]
    },
    {
      "cell_type": "code",
      "metadata": {
        "colab": {
          "base_uri": "https://localhost:8080/"
        },
        "id": "3BtNLZhoaYwU",
        "outputId": "c0d098e5-74a6-4008-cc16-92acdec192f5"
      },
      "source": [
        "p = Perceptron(np.array([[1, 2], [3, 4]]), np.array([[5, 6]]))\n",
        "p.forward(np.array([[0, 0], [1, 0], [0, 1]]))\n",
        "# 작동!"
      ],
      "execution_count": 3,
      "outputs": [
        {
          "output_type": "execute_result",
          "data": {
            "text/plain": [
              "array([[ 5,  6],\n",
              "       [ 6,  8],\n",
              "       [ 8, 10]])"
            ]
          },
          "metadata": {
            "tags": []
          },
          "execution_count": 3
        }
      ]
    },
    {
      "cell_type": "markdown",
      "metadata": {
        "id": "OFUHOfoy7zCd"
      },
      "source": [
        "2. 계단 함수가 제대로 동작하는지 확인"
      ]
    },
    {
      "cell_type": "code",
      "metadata": {
        "colab": {
          "base_uri": "https://localhost:8080/"
        },
        "id": "iANCb_fw7wmd",
        "outputId": "b946977f-fee5-4938-ddd7-cf2194e6373d"
      },
      "source": [
        "s = StepFunction()\n",
        "s.forward(np.array([1, -4, 3, 0]))"
      ],
      "execution_count": 4,
      "outputs": [
        {
          "output_type": "execute_result",
          "data": {
            "text/plain": [
              "array([1, 0, 1, 0])"
            ]
          },
          "metadata": {
            "tags": []
          },
          "execution_count": 4
        }
      ]
    },
    {
      "cell_type": "markdown",
      "metadata": {
        "id": "Cs-SDaBD71T9"
      },
      "source": [
        "3. 퍼셉트론과 계단함수를 이용\n"
      ]
    },
    {
      "cell_type": "code",
      "metadata": {
        "colab": {
          "base_uri": "https://localhost:8080/"
        },
        "id": "p2qhnmRF70Kk",
        "outputId": "f5c22c5e-b64f-4eea-c1f3-034934b744ea"
      },
      "source": [
        "p = Perceptron(np.array([[1, -1], [-2, 0]]), np.array([[-3, 1]]), activation=s)\n",
        "p.forward(np.array([[1, 2], [-3, -4]]))"
      ],
      "execution_count": 5,
      "outputs": [
        {
          "output_type": "execute_result",
          "data": {
            "text/plain": [
              "array([[0, 0],\n",
              "       [1, 1]])"
            ]
          },
          "metadata": {
            "tags": []
          },
          "execution_count": 5
        }
      ]
    }
  ]
}