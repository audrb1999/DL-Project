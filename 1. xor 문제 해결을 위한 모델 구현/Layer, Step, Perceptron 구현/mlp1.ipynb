{
  "nbformat": 4,
  "nbformat_minor": 0,
  "metadata": {
    "colab": {
      "name": "mlp1.ipynb",
      "provenance": [],
      "collapsed_sections": [],
      "authorship_tag": "ABX9TyPwmNW2dUJc/8uhJOI8gtUe",
      "include_colab_link": true
    },
    "kernelspec": {
      "name": "python3",
      "display_name": "Python 3"
    },
    "language_info": {
      "name": "python"
    }
  },
  "cells": [
    {
      "cell_type": "markdown",
      "metadata": {
        "id": "view-in-github",
        "colab_type": "text"
      },
      "source": [
        "<a href=\"https://colab.research.google.com/github/audrb1999/DL-Project/blob/main/mlp1.ipynb\" target=\"_parent\"><img src=\"https://colab.research.google.com/assets/colab-badge.svg\" alt=\"Open In Colab\"/></a>"
      ]
    },
    {
      "cell_type": "markdown",
      "metadata": {
        "id": "d9z8T-C2hcHo"
      },
      "source": [
        "##***기본적인 클래스 구현***\n",
        "1. Layer\n",
        "2. Step function\n",
        "3. Perceptron"
      ]
    },
    {
      "cell_type": "code",
      "metadata": {
        "id": "afEf6JFIhXxZ"
      },
      "source": [
        "# 순전파에 대해서 먼저 구현하겠습니다.\n",
        "# 부모 클래스이므로 대부분의 함수들이 가지고 있는 기능을 구현\n",
        "\n",
        "class Layer:\n",
        "    def __init__(self):# 모든 함수들이 공통으로 입출력을 조절\n",
        "        self.input = None\n",
        "        self.output = None\n",
        "    \n",
        "    def forward(self, x):# 모든 함수들이 공통으로 사용하는 순전파 \n",
        "        self.input = x\n",
        "        self.output = self._forward(x)\n",
        "        return self.output\n",
        "\n",
        "    def _forward(self, x):\n",
        "        raise NotImplementedError\n"
      ],
      "execution_count": 1,
      "outputs": []
    },
    {
      "cell_type": "code",
      "metadata": {
        "id": "UK9gWq0hjCYC"
      },
      "source": [
        "import numpy as np\n",
        "\n",
        "# 0보다 클 시 1을 출력하는 계단 함수 구현\n",
        "class StepFunction(Layer):\n",
        "    def _forward(self, x):\n",
        "        y = x > 0\n",
        "        return y.astype(np.int)\n",
        "\n",
        "\n",
        "# 기본적인 퍼셉트론 구현 \n",
        "class Perceptron(Layer):\n",
        "    def __init__(self, weights, bias, activation=None):\n",
        "        super().__init__() # 만약 상위 클래스 Layer가 호출되지 않아도 실행할 수 있게하는 것\n",
        "        self.weights = weights\n",
        "        self.bias = bias\n",
        "        self.activation = activation\n",
        "\n",
        "    def _forward(self, x): # 활성화 함수 유무를 위한 if 문\n",
        "        a = np.matmul(x, self.weights) + self.bias\n",
        "        if self.activation != None:\n",
        "            y = self.activation.forward(a)\n",
        "            return y\n",
        "        return a"
      ],
      "execution_count": 2,
      "outputs": []
    },
    {
      "cell_type": "markdown",
      "metadata": {
        "id": "LQHY3kef-URf"
      },
      "source": [
        "1. 퍼셉트론이 제대로 동작하는지 확인"
      ]
    },
    {
      "cell_type": "code",
      "metadata": {
        "id": "RGKTTS4JjldR",
        "colab": {
          "base_uri": "https://localhost:8080/"
        },
        "outputId": "4a19244c-6616-4140-c367-e59dd9269b5d"
      },
      "source": [
        "p = Perceptron(np.array([[1, 2], [3, 4]]), np.array([[5, 6]]))\n",
        "p.forward(np.array([[0, 0], [1, 0], [0, 1]]))"
      ],
      "execution_count": 3,
      "outputs": [
        {
          "output_type": "execute_result",
          "data": {
            "text/plain": [
              "array([[ 5,  6],\n",
              "       [ 6,  8],\n",
              "       [ 8, 10]])"
            ]
          },
          "metadata": {
            "tags": []
          },
          "execution_count": 3
        }
      ]
    },
    {
      "cell_type": "markdown",
      "metadata": {
        "id": "m_zbTSP-xuwM"
      },
      "source": [
        "2.  계단 함수가 제대로 동작하는지 확인"
      ]
    },
    {
      "cell_type": "code",
      "metadata": {
        "colab": {
          "base_uri": "https://localhost:8080/"
        },
        "id": "6_Vd156Hxt0J",
        "outputId": "3c952063-49c9-4eca-9d1b-eebcf87e10e1"
      },
      "source": [
        "s = StepFunction()\n",
        "s.forward(np.array([1, -4, 3, 0]))"
      ],
      "execution_count": 4,
      "outputs": [
        {
          "output_type": "execute_result",
          "data": {
            "text/plain": [
              "array([1, 0, 1, 0])"
            ]
          },
          "metadata": {
            "tags": []
          },
          "execution_count": 4
        }
      ]
    },
    {
      "cell_type": "markdown",
      "metadata": {
        "id": "RYmep6JHx1Gs"
      },
      "source": [
        "3. 퍼셉트론과 계단함수를 이용\n"
      ]
    },
    {
      "cell_type": "code",
      "metadata": {
        "colab": {
          "base_uri": "https://localhost:8080/"
        },
        "id": "JZCOI-_CxzjT",
        "outputId": "01accf31-e556-4edf-f043-29d676ce4246"
      },
      "source": [
        "p = Perceptron(np.array([[1, -1], [-2, 0]]), np.array([[-3, 1]]), activation=s)\n",
        "p.forward(np.array([[1, 2], [-3, -4]]))"
      ],
      "execution_count": 5,
      "outputs": [
        {
          "output_type": "execute_result",
          "data": {
            "text/plain": [
              "array([[0, 0],\n",
              "       [1, 1]])"
            ]
          },
          "metadata": {
            "tags": []
          },
          "execution_count": 5
        }
      ]
    }
  ]
}
