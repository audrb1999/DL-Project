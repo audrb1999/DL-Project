{
  "nbformat": 4,
  "nbformat_minor": 0,
  "metadata": {
    "colab": {
      "name": "02.퍼셉트론_And구현.ipynb",
      "provenance": [],
      "authorship_tag": "ABX9TyN8xT3C38g7MTlSInl+76y3",
      "include_colab_link": true
    },
    "kernelspec": {
      "name": "python3",
      "display_name": "Python 3"
    },
    "language_info": {
      "name": "python"
    }
  },
  "cells": [
    {
      "cell_type": "markdown",
      "metadata": {
        "id": "view-in-github",
        "colab_type": "text"
      },
      "source": [
        "<a href=\"https://colab.research.google.com/github/audrb1999/DL-Project/blob/main/01.numpy_XOR_%EA%B5%AC%ED%98%84/02.%ED%8D%BC%EC%85%89%ED%8A%B8%EB%A1%A0_And%EA%B5%AC%ED%98%84.ipynb\" target=\"_parent\"><img src=\"https://colab.research.google.com/assets/colab-badge.svg\" alt=\"Open In Colab\"/></a>"
      ]
    },
    {
      "cell_type": "code",
      "metadata": {
        "id": "3Homo-yaV2ZC"
      },
      "source": [
        "import numpy as np\n",
        "\n",
        "# 이전 코드들\n",
        "class Layer:\n",
        "    def __init__(self):# 모든 함수들이 공통으로 입출력을 조절\n",
        "        self.input = None\n",
        "        self.output = None\n",
        "    \n",
        "    def forward(self, x):# 모든 함수들이 공통으로 사용하는 순전파 \n",
        "        self.input = x\n",
        "        self.output = self._forward(x)\n",
        "        return self.output\n",
        "\n",
        "    def _forward(self, x):\n",
        "        raise NotImplementedError\n",
        "\n",
        "class StepFunction(Layer):\n",
        "    def _forward(self, x):\n",
        "        y = x > 0\n",
        "        return y.astype(np.int)\n",
        "\n",
        "class Perceptron(Layer):\n",
        "    def __init__(self, weights, bias, activation=None):\n",
        "        super().__init__() # 만약 상위 클래스 Layer가 호출되지 않아도 실행할 수 있게하는 것\n",
        "        self.weights = weights\n",
        "        self.bias = bias\n",
        "        self.activation = activation\n",
        "\n",
        "    def _forward(self, x): # 활성화 함수 유무를 위한 if 문\n",
        "        a = np.matmul(x, self.weights) + self.bias\n",
        "        if self.activation != None:\n",
        "            y = self.activation.forward(a)\n",
        "            return y\n",
        "        return a\n",
        "    "
      ],
      "execution_count": 2,
      "outputs": []
    },
    {
      "cell_type": "markdown",
      "metadata": {
        "id": "mRHrgBRYQe_O"
      },
      "source": [
        "##***2. MLP를 위한 Class 만들기***"
      ]
    },
    {
      "cell_type": "code",
      "metadata": {
        "id": "K3SHga2jMLxM"
      },
      "source": [
        "\n",
        "class Model(Layer):\n",
        "    def __init__(self):\n",
        "        super().__init__()\n",
        "        self.layers = []\n",
        "\n",
        "    def add(self, layer):\n",
        "        self.layers.append(layer)\n",
        "\n",
        "    def _forward(self, x):\n",
        "        a = self.layers[0].forward(x)\n",
        "        y = self.layers[1].forward(a)\n",
        "\n",
        "        return y"
      ],
      "execution_count": 3,
      "outputs": []
    },
    {
      "cell_type": "code",
      "metadata": {
        "id": "Kc5Y3pmmMQIq",
        "colab": {
          "base_uri": "https://localhost:8080/"
        },
        "outputId": "3f598342-fa53-410e-a385-14cbcc497720"
      },
      "source": [
        "model = Model()\n",
        "\n",
        "model.add(Perceptron(np.array([[1, 2], [1, 0]]), np.array([[-1, -2]])))\n",
        "model.add(Perceptron(np.array([[-1, 1], [3, 1]]), np.array([[0, 1]])))\n",
        "model.forward(np.array([[1, 1], [0, 0]]))"
      ],
      "execution_count": 4,
      "outputs": [
        {
          "output_type": "execute_result",
          "data": {
            "text/plain": [
              "array([[-1,  2],\n",
              "       [-5, -2]])"
            ]
          },
          "metadata": {
            "tags": []
          },
          "execution_count": 4
        }
      ]
    },
    {
      "cell_type": "markdown",
      "metadata": {
        "id": "5BL-rMJ-7okW"
      },
      "source": [
        "##***3. And 게이트를 구현해보자***\n",
        "\n",
        "가중치만 건드려주면 된다!"
      ]
    },
    {
      "cell_type": "code",
      "metadata": {
        "colab": {
          "base_uri": "https://localhost:8080/"
        },
        "id": "3BtNLZhoaYwU",
        "outputId": "e45e34cf-37f3-46cd-e02c-651d9d0fcefd"
      },
      "source": [
        "class Perceptron(Layer):\n",
        "    def __init__(self, weights, bias, activation=None):\n",
        "        super().__init__() # 만약 상위 클래스 Layer가 호출되지 않아도 실행할 수 있게하는 것\n",
        "        self.weights = weights\n",
        "        self.bias = bias\n",
        "        self.activation = activation\n",
        "\n",
        "    def _forward(self, x): # 활성화 함수 유무를 위한 if 문\n",
        "        a = np.matmul(x, self.weights) + self.bias\n",
        "        if self.activation != None:\n",
        "            y = self.activation.forward(a)\n",
        "            return y\n",
        "        return a\n",
        "\n",
        "class Model(Layer):\n",
        "    def __init__(self):\n",
        "        super().__init__()\n",
        "        self.layers = []\n",
        "\n",
        "    def add(self, layer):\n",
        "        self.layers.append(layer)\n",
        "\n",
        "    def _forward(self, x):\n",
        "        y = self.layers[0].forward(x)\n",
        "\n",
        "        return y\n",
        "\n",
        "\n",
        "s = StepFunction()\n",
        "\n",
        "model = Model()# 초기화\n",
        "model.add(Perceptron(np.array([0.3, 0.3]), -0.5, s))\n",
        "model.forward(np.array([[0, 0], [0, 1], [1, 0], [1, 1]]))\n",
        "\n"
      ],
      "execution_count": 5,
      "outputs": [
        {
          "output_type": "execute_result",
          "data": {
            "text/plain": [
              "array([0, 0, 0, 1])"
            ]
          },
          "metadata": {
            "tags": []
          },
          "execution_count": 5
        }
      ]
    }
  ]
}