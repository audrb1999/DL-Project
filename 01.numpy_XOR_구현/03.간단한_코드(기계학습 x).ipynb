{
  "nbformat": 4,
  "nbformat_minor": 0,
  "metadata": {
    "colab": {
      "name": "03.간단한 구현.ipynb",
      "provenance": [],
      "collapsed_sections": [],
      "authorship_tag": "ABX9TyPDAFc7oLZosHJYOwWdS3QI",
      "include_colab_link": true
    },
    "kernelspec": {
      "name": "python3",
      "display_name": "Python 3"
    },
    "language_info": {
      "name": "python"
    }
  },
  "cells": [
    {
      "cell_type": "markdown",
      "metadata": {
        "id": "view-in-github",
        "colab_type": "text"
      },
      "source": [
        "<a href=\"https://colab.research.google.com/github/audrb1999/DL-Project/blob/main/01.numpy_XOR_%EA%B5%AC%ED%98%84/03.%EA%B0%84%EB%8B%A8%ED%95%9C_%EC%BD%94%EB%93%9C.ipynb\" target=\"_parent\"><img src=\"https://colab.research.google.com/assets/colab-badge.svg\" alt=\"Open In Colab\"/></a>"
      ]
    },
    {
      "cell_type": "markdown",
      "metadata": {
        "id": "k4_SxYKClu12"
      },
      "source": [
        "##***기계학습이 아닌 방법으로 XOR 문제를 해결해보자***\n",
        "\n"
      ]
    },
    {
      "cell_type": "code",
      "metadata": {
        "id": "afEf6JFIhXxZ"
      },
      "source": [
        "import numpy as np\n",
        "\n",
        "class Layer:\n",
        "    def __init__(self):# 모든 함수들이 공통으로 입출력을 조절\n",
        "        self.input = None\n",
        "        self.output = None\n",
        "    \n",
        "    def forward(self, x):# 모든 함수들이 공통으로 사용하는 순전파 \n",
        "        self.input = x\n",
        "        self.output = self._forward(x)\n",
        "        return self.output\n",
        "\n",
        "    def _forward(self, x):\n",
        "        raise NotImplementedError\n",
        "\n",
        "class StepFunction(Layer):\n",
        "    def _forward(self, x):\n",
        "        y = x > 0\n",
        "        return y.astype(np.int)\n",
        "\n",
        "class Perceptron(Layer):\n",
        "    def __init__(self, weights, bias, activation=None):\n",
        "        super().__init__() # 만약 상위 클래스 Layer가 호출되지 않아도 실행할 수 있게하는 것\n",
        "        self.weights = weights\n",
        "        self.bias = bias\n",
        "        self.activation = activation\n",
        "\n",
        "    def _forward(self, x): # 활성화 함수 유무를 위한 if 문\n",
        "        a = np.matmul(x, self.weights) + self.bias\n",
        "        if self.activation != None:\n",
        "            y = self.activation.forward(a)\n",
        "            return y\n",
        "        return a\n",
        "\n",
        "class Model(Layer):\n",
        "    def __init__(self):\n",
        "        super().__init__()\n",
        "        self.layers = []\n",
        "\n",
        "    def add(self, layer):\n",
        "        self.layers.append(layer)\n",
        "\n",
        "\n",
        "    def _forward(self, x):\n",
        "        a = self.layers[0].forward(x)# 2층으로 연결해주기 위해서 이 출력을 다음 레이어가 받음\n",
        "        c = self.layers[1].forward(x)\n",
        "        y = []\n",
        "        for i in range(len(a)):    \n",
        "            z = Perceptron(np.array([0.3, 0.3]), -0.5, StepFunction()).forward(np.array([a[i], c[i]]))\n",
        "            y.append(z)\n",
        "            \n",
        "        return y"
      ],
      "execution_count": 7,
      "outputs": []
    },
    {
      "cell_type": "markdown",
      "metadata": {
        "id": "LQHY3kef-URf"
      },
      "source": [
        "제대로 동작하는지 확인"
      ]
    },
    {
      "cell_type": "code",
      "metadata": {
        "id": "RGKTTS4JjldR",
        "colab": {
          "base_uri": "https://localhost:8080/"
        },
        "outputId": "114ef639-1226-491b-9bc6-c4dada06a567"
      },
      "source": [
        "s = StepFunction()\n",
        "model = Model()\n",
        "model.add(Perceptron(np.array([0.3, 0.3]), -0.2, activation = s))# OR\n",
        "model.add(Perceptron(np.array([-0.5, -0.5]), 0.8, s))# nand\n",
        "model.forward(np.array([[0, 0], [0, 1], [1, 0], [1, 1]]))"
      ],
      "execution_count": 8,
      "outputs": [
        {
          "output_type": "execute_result",
          "data": {
            "text/plain": [
              "[0, 1, 1, 0]"
            ]
          },
          "metadata": {
            "tags": []
          },
          "execution_count": 8
        }
      ]
    }
  ]
}
