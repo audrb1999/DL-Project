{
  "nbformat": 4,
  "nbformat_minor": 0,
  "metadata": {
    "colab": {
      "name": "05.loss값 구하기, 역전파 구현.ipynb",
      "provenance": [],
      "authorship_tag": "ABX9TyPxGcXfgb5T69ZNtrwGxGpa",
      "include_colab_link": true
    },
    "kernelspec": {
      "name": "python3",
      "display_name": "Python 3"
    },
    "language_info": {
      "name": "python"
    }
  },
  "cells": [
    {
      "cell_type": "markdown",
      "metadata": {
        "id": "view-in-github",
        "colab_type": "text"
      },
      "source": [
        "<a href=\"https://colab.research.google.com/github/audrb1999/DL-Project/blob/main/01.numpy_XOR_%EA%B5%AC%ED%98%84/05._loss%EA%B0%92_%EA%B5%AC%ED%95%98%EA%B8%B0%2C_%EC%97%AD%EC%A0%84%ED%8C%8C_%EA%B5%AC%ED%98%84.ipynb\" target=\"_parent\"><img src=\"https://colab.research.google.com/assets/colab-badge.svg\" alt=\"Open In Colab\"/></a>"
      ]
    },
    {
      "cell_type": "markdown",
      "metadata": {
        "id": "Dx0lU1I1Qenk"
      },
      "source": [
        "이전 코드들"
      ]
    },
    {
      "cell_type": "code",
      "metadata": {
        "id": "3Homo-yaV2ZC"
      },
      "source": [
        "import numpy as np\n",
        "\n",
        "# 이전 코드들\n",
        "class Layer:\n",
        "    def __init__(self):# 모든 함수들이 공통으로 입출력을 조절\n",
        "        self.input = None\n",
        "        self.output = None\n",
        "    \n",
        "    def forward(self, x):# 모든 함수들이 공통으로 사용하는 순전파 \n",
        "        self.input = x\n",
        "        self.output = self._forward(x)\n",
        "        return self.output\n",
        "\n",
        "    def _forward(self, x):\n",
        "        raise NotImplementedError\n",
        "\n",
        "class StepFunction(Layer):\n",
        "    def _forward(self, x):\n",
        "        y = x > 0\n",
        "        return y.astype(np.int)\n",
        "\n",
        "class Perceptron(Layer):\n",
        "    def __init__(self, weights, bias, activation=None):\n",
        "        super().__init__() # 만약 상위 클래스 Layer가 호출되지 않아도 실행할 수 있게하는 것\n",
        "        self.weights = weights\n",
        "        self.bias = bias\n",
        "        self.activation = activation\n",
        "\n",
        "    def _forward(self, x): # 활성화 함수 유무를 위한 if 문\n",
        "        a = np.matmul(x, self.weights) + self.bias\n",
        "        if self.activation != None:\n",
        "            y = self.activation.forward(a)\n",
        "            return y\n",
        "        return a\n",
        "\n",
        "class Loss:\n",
        "    def forward(self, y_true, y_pred):\n",
        "        raise NotImplementedError\n",
        "   \n",
        "    def _forward(self, y_true, y_pred):\n",
        "        raise NotImplementedError\n",
        "\n",
        "class MSE(Loss):\n",
        "    def forward(self, y_true, y_pred):# forward를 상속받아서 고쳐쓴 것\n",
        "        mse = np.mean(np.square(y_true - y_pred)/2, axis = 0, keepdims = True)# 1랭크가 되지 않도록 차원 유지!\n",
        "        return mse\n",
        "\n",
        "class Sigmoid(Layer):\n",
        "    def _forward(self, x):\n",
        "        return 1 / (1+np.exp(-x))"
      ],
      "execution_count": 4,
      "outputs": []
    },
    {
      "cell_type": "markdown",
      "metadata": {
        "id": "mRHrgBRYQe_O"
      },
      "source": [
        "##***Sigmoid를 사용해서 xor을 구하고 loss값을 구하자!***"
      ]
    },
    {
      "cell_type": "code",
      "metadata": {
        "id": "K3SHga2jMLxM"
      },
      "source": [
        "class Model(Layer):\n",
        "    def __init__(self):\n",
        "        super().__init__()\n",
        "        self.layers = []\n",
        "        self.loss = None #loss값 초기화 이전 값이 있더라도 model()클래스 선언시 초기화됨!\n",
        "\n",
        "    def add(self, layer):\n",
        "        self.layers.append(layer)\n",
        "\n",
        "\n",
        "    def _forward(self, x):\n",
        "        a = self.layers[0].forward(x)# 2층으로 연결해주기 위해서 이 출력을 다음 레이어가 받음\n",
        "        c = self.layers[1].forward(x)\n",
        "        y = []\n",
        "        for i in range(len(a)):    \n",
        "            z = Perceptron(np.array([0.3, 0.3]), 0.1, StepFunction()).forward(np.array([a[i], c[i]]))\n",
        "            y.append(z)\n",
        "            \n",
        "        return y\n",
        "\n",
        "    def set_loss(self, loss):\n",
        "        self.loss = loss\n",
        "\n",
        "    def evaluate(self, x, y):\n",
        "        if self.loss is None:\n",
        "            return None\n",
        "        y_pred = Sigmoid().forward(x)\n",
        "        \n",
        "        return self.loss.forward(y, y_pred)\n"
      ],
      "execution_count": 5,
      "outputs": []
    },
    {
      "cell_type": "code",
      "metadata": {
        "id": "Kc5Y3pmmMQIq",
        "colab": {
          "base_uri": "https://localhost:8080/"
        },
        "outputId": "992113b1-6c0b-40d3-92a5-352a67f3ec97"
      },
      "source": [
        "model = Model()\n",
        "model.set_loss(MSE())\n",
        "model.evaluate(np.random.normal(size=(4, 2)), np.ones((4, 2)))"
      ],
      "execution_count": 6,
      "outputs": [
        {
          "output_type": "execute_result",
          "data": {
            "text/plain": [
              "array([[0.13909149, 0.13393503]])"
            ]
          },
          "metadata": {
            "tags": []
          },
          "execution_count": 6
        }
      ]
    },
    {
      "cell_type": "markdown",
      "metadata": {
        "id": "5BL-rMJ-7okW"
      },
      "source": [
        "##***Layer sigmoid역전파 구현!***"
      ]
    },
    {
      "cell_type": "code",
      "metadata": {
        "id": "3BtNLZhoaYwU"
      },
      "source": [
        "class Layer:\n",
        "    def backward(self, grad = 1):\n",
        "        if self.input is None or self.output is None:\n",
        "            return None\n",
        "        return self._backward(grad)\n",
        "\n",
        "    def _backward(self, grad):\n",
        "        raise NotImplementedError\n",
        "\n",
        "class Sigmoid(Layer):\n",
        "    def _forward(self, x):\n",
        "        self.result = 1 / (1+np.exp(-x))\n",
        "        return self.result\n",
        "\n",
        "    def _backward(self, x): \n",
        "        result = self.result\n",
        "        return result * (1 - result)\n"
      ],
      "execution_count": 7,
      "outputs": []
    }
  ]
}